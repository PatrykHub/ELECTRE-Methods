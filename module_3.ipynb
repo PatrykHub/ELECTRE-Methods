{
 "cells": [
  {
   "cell_type": "code",
   "execution_count": 1,
   "metadata": {
    "pycharm": {
     "is_executing": false
    }
   },
   "outputs": [],
   "source": [
    "from concordance import *\n",
    "from core.scales import QuantitativeScale, PreferenceDirection"
   ]
  },
  {
   "cell_type": "code",
   "execution_count": 2,
   "metadata": {
    "pycharm": {
     "is_executing": false,
     "name": "#%%\n"
    }
   },
   "outputs": [],
   "source": [
    "fiat   = [100, 3500]\n",
    "vwPolo = [150, 5000]"
   ]
  },
  {
   "cell_type": "code",
   "execution_count": 3,
   "metadata": {
    "pycharm": {
     "is_executing": false,
     "name": "#%%\n"
    }
   },
   "outputs": [],
   "source": [
    "scales  = [QuantitativeScale(100,   500),\n",
    "           QuantitativeScale(1500, 6000, PreferenceDirection.MIN)]\n",
    "weights = [2, 3]"
   ]
  },
  {
   "cell_type": "code",
   "execution_count": 4,
   "metadata": {
    "pycharm": {
     "is_executing": false,
     "name": "#%%\n"
    }
   },
   "outputs": [],
   "source": [
    "indifference = [\n",
    "    [0.1, 10],\n",
    "    [0, 500]\n",
    "]\n",
    "preference = [\n",
    "    [0.3, 20],\n",
    "    [0.4, 500]\n",
    "]\n",
    "reinforce = [\n",
    "    [0, 400],\n",
    "    [0, 10000]\n",
    "]"
   ]
  },
  {
   "cell_type": "code",
   "execution_count": 5,
   "metadata": {
    "pycharm": {
     "is_executing": false,
     "name": "#%%\n"
    }
   },
   "outputs": [
    {
     "name": "stdout",
     "output_type": "stream",
     "text": [
      "[] ['MS', 'min', 4]\n",
      "[] []\n"
     ]
    }
   ],
   "source": [
    "interactions = [[[], []],\n",
    "                [[], []]]\n",
    "interact(interactions, 1, 2, 'MS', 'min', 4)\n",
    "for line in interactions:\n",
    "    print(*line)"
   ]
  },
  {
   "cell_type": "code",
   "execution_count": 6,
   "metadata": {},
   "outputs": [
    {
     "name": "stdout",
     "output_type": "stream",
     "text": [
      "0.8421052631578947\n"
     ]
    }
   ],
   "source": [
    "print(concordance_with_interactions(\n",
    "    vwPolo, fiat, scales, weights, interactions, indifference, preference\n",
    "))"
   ]
  },
  {
   "cell_type": "code",
   "execution_count": 7,
   "metadata": {},
   "outputs": [
    {
     "name": "stdout",
     "output_type": "stream",
     "text": [
      "1.0 0.8421052631578947\n",
      "0.6 1.0\n"
     ]
    }
   ],
   "source": [
    "cr = concordance_w_i(\n",
    "    [vwPolo, fiat], scales, weights, indifference, preference, interactions\n",
    ")\n",
    "\n",
    "for line in cr:\n",
    "    print(*line)"
   ]
  }
 ],
 "metadata": {
  "kernelspec": {
   "display_name": "Python 3 (ipykernel)",
   "language": "python",
   "name": "python3"
  },
  "language_info": {
   "codemirror_mode": {
    "name": "ipython",
    "version": 3
   },
   "file_extension": ".py",
   "mimetype": "text/x-python",
   "name": "python",
   "nbconvert_exporter": "python",
   "pygments_lexer": "ipython3",
   "version": "3.9.9"
  },
  "pycharm": {
   "stem_cell": {
    "cell_type": "raw",
    "metadata": {
     "collapsed": false
    },
    "source": []
   }
  }
 },
 "nbformat": 4,
 "nbformat_minor": 1
}
