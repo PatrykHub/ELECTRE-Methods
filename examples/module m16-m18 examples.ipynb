{
 "cells": [
  {
   "cell_type": "code",
   "execution_count": 6,
   "metadata": {
    "pycharm": {
     "is_executing": false
    }
   },
   "outputs": [],
   "source": [
    "import sys\n",
    "import os\n",
    "import pandas as pd\n",
    "sys.path.append(os.path.abspath('../'))\n",
    "import warnings\n",
    "warnings.filterwarnings(\"ignore\")\n",
    "from mcda.electre.class_assignment import (assign_tri_class)"
   ]
  },
  {
   "cell_type": "code",
   "execution_count": 7,
   "metadata": {
    "pycharm": {
     "is_executing": false
    }
   },
   "outputs": [],
   "source": [
    "alternatives = pd.Series([\"Audi A3\", \"Audi A4\", \"BMW 118\", \"BMW 320\", \"Volvo C30\", \"Volvo S40\"], \n",
    "                         index=[\"A1\", \"A2\", \"A3\", \"A4\", \"A5\", \"A6\"])\n",
    "categories_rank = pd.Series([\"Bad\", \"Medium\", \"Good\"], \n",
    "                            index=[3, 2, 1])\n",
    "categories_profiles = pd.Series([(\"Bad\", \"Medium\"), (\"Medium\", \"Good\")], \n",
    "                                index=[\"p1\", \"p2\"])"
   ]
  },
  {
   "cell_type": "code",
   "execution_count": 8,
   "metadata": {
    "pycharm": {
     "is_executing": false
    }
   },
   "outputs": [],
   "source": [
    "# Output of outranking_relation() would be (outranking_1, outranking_2) \n",
    "\n",
    "outranking_1 = pd.DataFrame(\n",
    "        [\n",
    "            [True, True],\n",
    "            [True, False],\n",
    "            [True, False],\n",
    "            [False, False],\n",
    "            [True, False],\n",
    "            [True, False]\n",
    "        ],\n",
    "        index=[\"Audi A3\", \"Audi A4\", \"BMW 118\", \"BMW 320\", \"Volvo C30\", \"Volvo S40\"],\n",
    "        columns=[\"p1\", \"p2\"])\n",
    "outranking_2 = pd.DataFrame(\n",
    "        [\n",
    "            [False, False, False, False, False, False],\n",
    "            [True, True, True, True, True, True]\n",
    "        ],\n",
    "        index=[\"p1\", \"p2\"],\n",
    "        columns=[\"Audi A3\", \"Audi A4\", \"BMW 118\", \"BMW 320\", \"Volvo C30\", \"Volvo S40\"])\n",
    "\n",
    "crisp_outranking = pd.concat([outranking_1, outranking_2], axis=1)"
   ]
  },
  {
   "cell_type": "code",
   "execution_count": 9,
   "metadata": {
    "pycharm": {
     "is_executing": false,
     "name": "#%%\n"
    }
   },
   "outputs": [
    {
     "data": {
      "text/plain": [
       "Audi A3          (Good, Good)\n",
       "Audi A4      (Medium, Medium)\n",
       "BMW 118      (Medium, Medium)\n",
       "BMW 320         (Bad, Medium)\n",
       "Volvo C30    (Medium, Medium)\n",
       "Volvo S40    (Medium, Medium)\n",
       "dtype: object"
      ]
     },
     "execution_count": 9,
     "metadata": {},
     "output_type": "execute_result"
    }
   ],
   "source": [
    "tri_b = assign_tri_class(alternatives, categories_rank, categories_profiles, crisp_outranking)\n",
    "tri_b\n"
   ]
  }
 ],
 "metadata": {
  "kernelspec": {
   "display_name": "Python 3 (ipykernel)",
   "language": "python",
   "name": "python3"
  },
  "language_info": {
   "codemirror_mode": {
    "name": "ipython",
    "version": 3
   },
   "file_extension": ".py",
   "mimetype": "text/x-python",
   "name": "python",
   "nbconvert_exporter": "python",
   "pygments_lexer": "ipython3",
   "version": "3.9.9"
  },
  "pycharm": {
   "stem_cell": {
    "cell_type": "raw",
    "metadata": {
     "collapsed": false
    },
    "source": []
   }
  },
  "vscode": {
   "interpreter": {
    "hash": "916dbcbb3f70747c44a77c7bcd40155683ae19c65e1c03b4aa3499c5328201f1"
   }
  }
 },
 "nbformat": 4,
 "nbformat_minor": 2
}
