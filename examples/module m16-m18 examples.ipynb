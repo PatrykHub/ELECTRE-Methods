{
 "cells": [
  {
   "cell_type": "code",
   "execution_count": 9,
   "metadata": {
    "pycharm": {
     "is_executing": false
    }
   },
   "outputs": [],
   "source": [
    "import sys\n",
    "import os\n",
    "import pandas as pd\n",
    "sys.path.append(os.path.abspath('../'))\n",
    "import warnings\n",
    "warnings.filterwarnings(\"ignore\")\n",
    "from mcda.electre.outranking import (assign_tri_class, assign_tri_c_class)"
   ]
  },
  {
   "cell_type": "code",
   "execution_count": 10,
   "metadata": {
    "pycharm": {
     "is_executing": false
    }
   },
   "outputs": [],
   "source": [
    "# Electre Tri (B)\n",
    "categories_profiles = pd.Series([(\"Bad\", \"Medium\"), (\"Medium\", \"Good\")], \n",
    "                                index=[\"p1\", \"p2\"])"
   ]
  },
  {
   "cell_type": "code",
   "execution_count": 11,
   "metadata": {
    "pycharm": {
     "is_executing": false
    }
   },
   "outputs": [],
   "source": [
    "# Output of outranking_relation() would be (outranking_1, outranking_2) \n",
    "\n",
    "outranking_ap = pd.DataFrame(\n",
    "        [\n",
    "            [True, True],\n",
    "            [True, False],\n",
    "            [True, False],\n",
    "            [False, False],\n",
    "            [True, False],\n",
    "            [True, False]\n",
    "        ],\n",
    "        index=[\"Audi A3\", \"Audi A4\", \"BMW 118\", \"BMW 320\", \"Volvo C30\", \"Volvo S40\"],\n",
    "        columns=[\"p1\", \"p2\"])\n",
    "outranking_pa = pd.DataFrame(\n",
    "        [\n",
    "            [False, False, False, False, False, False],\n",
    "            [True, True, True, True, True, True]\n",
    "        ],\n",
    "        index=[\"p1\", \"p2\"],\n",
    "        columns=[\"Audi A3\", \"Audi A4\", \"BMW 118\", \"BMW 320\", \"Volvo C30\", \"Volvo S40\"])"
   ]
  },
  {
   "cell_type": "code",
   "execution_count": 12,
   "metadata": {
    "pycharm": {
     "is_executing": false,
     "name": "#%%\n"
    }
   },
   "outputs": [
    {
     "data": {
      "text/plain": "Audi A3          (Good, Good)\nAudi A4      (Medium, Medium)\nBMW 118      (Medium, Medium)\nBMW 320         (Bad, Medium)\nVolvo C30    (Medium, Medium)\nVolvo S40    (Medium, Medium)\ndtype: object"
     },
     "metadata": {},
     "output_type": "execute_result",
     "execution_count": 12
    }
   ],
   "source": [
    "tri_b = assign_tri_class(categories_profiles, outranking_ap, outranking_pa)\n",
    "tri_b"
   ]
  },
  {
   "cell_type": "code",
   "execution_count": 13,
   "outputs": [],
   "source": [
    "# Electre Tri-C\n",
    "categories_profiles_c = pd.Series([\"C1\", \"C2\", \"C3\", \"C4\", \"C5\"], index=[\"b1\", \"b2\", \"b3\", \"b4\", \"b5\"])"
   ],
   "metadata": {
    "collapsed": false,
    "pycharm": {
     "name": "#%%\n",
     "is_executing": false
    }
   }
  },
  {
   "cell_type": "code",
   "execution_count": 14,
   "outputs": [],
   "source": [
    "outranking_ap = pd.DataFrame(\n",
    "            [\n",
    "                [True, True, True, False, False],\n",
    "                [True, True, True, False, False],\n",
    "                [True, True, True, False, False],\n",
    "                [True, True, True, False, False],\n",
    "                [True, True, False, False, False],\n",
    "                [True, True, False, False, False],\n",
    "                [True, True, False, False, False],\n",
    "                [True, True, True, True, False],\n",
    "                [True, True, False, False, False],\n",
    "                [True, True, False, False, False],\n",
    "                [True, True, False, False, False],\n",
    "            ],\n",
    "            index=[\n",
    "                \"France\",\n",
    "                \"Italy\",\n",
    "                \"Spain\",\n",
    "                \"Germany\",\n",
    "                \"Sweden\",\n",
    "                \"Denmark\",\n",
    "                \"Russia\",\n",
    "                \"Luxembourg\",\n",
    "                \"Portugal\",\n",
    "                \"Greece\",\n",
    "                \"Poland\",\n",
    "            ],\n",
    "            columns=[\"C1\", \"C2\", \"C3\", \"C4\", \"C5\"],\n",
    "        )\n",
    "outranking_pa = pd.DataFrame(\n",
    "            [\n",
    "                [False, False, False, False, False, False, False, False, False, False, False],\n",
    "                [False, False, False, False, False, False, False, False, False, False, False],\n",
    "                [False, False, False, True, False, False, False, True, False, False, False],\n",
    "                [True, True, True, True, True, True, True, True, False, False, False],\n",
    "                [True, True, True, True, True, True, True, True, True, True, True],\n",
    "            ],\n",
    "            index=[\"C1\", \"C2\", \"C3\", \"C4\", \"C5\"],\n",
    "            columns=[\n",
    "                \"France\",\n",
    "                \"Italy\",\n",
    "                \"Spain\",\n",
    "                \"Germany\",\n",
    "                \"Sweden\",\n",
    "                \"Denmark\",\n",
    "                \"Russia\",\n",
    "                \"Luxembourg\",\n",
    "                \"Portugal\",\n",
    "                \"Greece\",\n",
    "                \"Poland\",\n",
    "            ],\n",
    "        )"
   ],
   "metadata": {
    "collapsed": false,
    "pycharm": {
     "name": "#%%\n",
     "is_executing": false
    }
   }
  },
  {
   "cell_type": "code",
   "execution_count": 15,
   "outputs": [],
   "source": [
    "credibility_ap = pd.DataFrame(\n",
    "            [\n",
    "                [1.0, 1.0, 0.9, 0.5, 0.3],\n",
    "                [1.0, 1.0, 0.9, 0.6, 0.3],\n",
    "                [1.0, 1.0, 0.9, 0.6, 0.3],\n",
    "                [1.0, 0.9, 0.7, 0.3, 0.1],\n",
    "                [1.0, 0.9, 0.6, 0.3, 0.1],\n",
    "                [1.0, 0.9, 0.6, 0.5, 0.1],\n",
    "                [1.0, 0.9, 0.4, 0.3, 0.1],\n",
    "                [1.0, 1.0, 1.0, 0.8, 0.3],\n",
    "                [1.0, 0.9, 0.6, 0.5, 0.3],\n",
    "                [1.0, 0.9, 0.6, 0.6, 0.5],\n",
    "                [1.0, 0.9, 0.4, 0.3, 0.2],\n",
    "            ],\n",
    "            index=[\n",
    "                \"France\",\n",
    "                \"Italy\",\n",
    "                \"Spain\",\n",
    "                \"Germany\",\n",
    "                \"Sweden\",\n",
    "                \"Denmark\",\n",
    "                \"Russia\",\n",
    "                \"Luxembourg\",\n",
    "                \"Portugal\",\n",
    "                \"Greece\",\n",
    "                \"Poland\",\n",
    "            ],\n",
    "            columns=[\"C1\", \"C2\", \"C3\", \"C4\", \"C5\"],\n",
    "        )\n",
    "\n",
    "credibility_pa = pd.DataFrame(\n",
    "            [\n",
    "                [0.0, 0.0, 0.0, 0.2, 0.2, 0.2, 0.2, 0.2, 0.2, 0.2, 0.2],\n",
    "                [0.2, 0.2, 0.2, 0.3, 0.3, 0.5, 0.5, 0.2, 0.2, 0.2, 0.5],\n",
    "                [0.6, 0.5, 0.6, 0.7, 0.5, 0.4, 0.6, 0.9, 0.3, 0.3, 0.5],\n",
    "                [0.7, 0.7, 0.7, 0.8, 0.8, 0.8, 0.8, 1.0, 0.5, 0.4, 0.6],\n",
    "                [0.8, 0.8, 0.8, 1.0, 1.0, 1.0, 1.0, 1.0, 1.0, 1.0, 1.0],\n",
    "            ],\n",
    "            index=[\"C1\", \"C2\", \"C3\", \"C4\", \"C5\"],\n",
    "            columns=[\n",
    "                \"France\",\n",
    "                \"Italy\",\n",
    "                \"Spain\",\n",
    "                \"Germany\",\n",
    "                \"Sweden\",\n",
    "                \"Denmark\",\n",
    "                \"Russia\",\n",
    "                \"Luxembourg\",\n",
    "                \"Portugal\",\n",
    "                \"Greece\",\n",
    "                \"Poland\",\n",
    "            ],\n",
    "        )"
   ],
   "metadata": {
    "collapsed": false,
    "pycharm": {
     "name": "#%%\n",
     "is_executing": false
    }
   }
  },
  {
   "cell_type": "code",
   "execution_count": 16,
   "outputs": [
    {
     "name": "stdout",
     "text": [
      "France        (C3, C3)\n",
      "Italy         (C4, C4)\n",
      "Spain         (C3, C4)\n",
      "Germany       (C3, C3)\n",
      "Sweden        (C3, C3)\n",
      "Denmark       (C3, C4)\n",
      "Russia        (C2, C3)\n",
      "Luxembourg    (C3, C4)\n",
      "Portugal      (C3, C4)\n",
      "Greece        (C3, C5)\n",
      "Poland        (C2, C4)\n",
      "dtype: object\n"
     ],
     "output_type": "stream"
    },
    {
     "data": {
      "text/plain": "France        (C3, C3)\nItaly         (C4, C4)\nSpain         (C3, C4)\nGermany       (C3, C3)\nSweden        (C3, C3)\nDenmark       (C3, C4)\nRussia        (C2, C3)\nLuxembourg    (C3, C4)\nPortugal      (C3, C4)\nGreece        (C3, C5)\nPoland        (C2, C4)\ndtype: object"
     },
     "metadata": {},
     "output_type": "execute_result",
     "execution_count": 16
    }
   ],
   "source": [
    "assign_tri_c_class(categories_profiles_c, \n",
    "                   outranking_ap, \n",
    "                   outranking_pa, \n",
    "                   credibility_ap, \n",
    "                   credibility_pa)\n"
   ],
   "metadata": {
    "collapsed": false,
    "pycharm": {
     "name": "#%%\n",
     "is_executing": false
    }
   }
  }
 ],
 "metadata": {
  "kernelspec": {
   "display_name": "Python 3 (ipykernel)",
   "language": "python",
   "name": "python3"
  },
  "language_info": {
   "codemirror_mode": {
    "name": "ipython",
    "version": 3
   },
   "file_extension": ".py",
   "mimetype": "text/x-python",
   "name": "python",
   "nbconvert_exporter": "python",
   "pygments_lexer": "ipython3",
   "version": "3.9.9"
  },
  "pycharm": {
   "stem_cell": {
    "cell_type": "raw",
    "source": [],
    "metadata": {
     "collapsed": false
    }
   }
  },
  "vscode": {
   "interpreter": {
    "hash": "916dbcbb3f70747c44a77c7bcd40155683ae19c65e1c03b4aa3499c5328201f1"
   }
  }
 },
 "nbformat": 4,
 "nbformat_minor": 2
}