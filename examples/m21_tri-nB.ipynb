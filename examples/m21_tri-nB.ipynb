{
 "cells": [
  {
   "cell_type": "code",
   "execution_count": 57,
   "metadata": {},
   "outputs": [],
   "source": [
    "import sys\n",
    "import os\n",
    "sys.path.append(os.path.abspath('../'))\n",
    "from mcda.electre.outranking import *"
   ]
  },
  {
   "cell_type": "markdown",
   "metadata": {},
   "source": [
    "### Example 1"
   ]
  },
  {
   "cell_type": "code",
   "execution_count": 63,
   "metadata": {},
   "outputs": [
    {
     "data": {
      "text/plain": [
       "good      [p1_1, p1_2]\n",
       "medium    [p2_1, p2_2]\n",
       "bad                 []\n",
       "dtype: object"
      ]
     },
     "execution_count": 63,
     "metadata": {},
     "output_type": "execute_result"
    }
   ],
   "source": [
    "crisp_outranking_ap = pd.DataFrame(\n",
    "        [\n",
    "            [0, 1, 1, 1],\n",
    "            [0, 0, 0, 0],\n",
    "            [0, 0, 1, 1],\n",
    "            [0, 1, 0, 0],\n",
    "            [1, 1, 1, 0],\n",
    "        ],\n",
    "        index=['Audi', 'BMW' , 'Fiat' , 'Honda' , 'Opel'],\n",
    "        columns=[\"p1_1\", \"p1_2\", \"p2_1\", \"p2_2\"])\n",
    "crisp_outranking_pa = pd.DataFrame(\n",
    "        [\n",
    "            [0, 1, 1, 1, 0],\n",
    "            [0, 1, 0, 0, 0],\n",
    "            [0, 1, 0, 0, 0],\n",
    "            [1, 0, 1, 0, 1]\n",
    "        ],\n",
    "        index=[\"p1_1\", \"p1_2\", \"p2_1\", \"p2_2\"],\n",
    "        columns=['Audi', 'BMW' , 'Fiat' , 'Honda' , 'Opel'])\n",
    "categories = pd.Series([[\"p1_1\", \"p1_2\"], [\"p2_1\", \"p2_2\"], []], index=[\"good\", \"medium\", \"bad\"])\n",
    "categories\n"
   ]
  },
  {
   "cell_type": "code",
   "execution_count": 59,
   "metadata": {},
   "outputs": [
    {
     "data": {
      "text/plain": [
       "Audi       good\n",
       "BMW         bad\n",
       "Fiat     medium\n",
       "Honda      good\n",
       "Opel       good\n",
       "dtype: object"
      ]
     },
     "execution_count": 59,
     "metadata": {},
     "output_type": "execute_result"
    }
   ],
   "source": [
    "assign_tri_nb_class(crisp_outranking_ap, crisp_outranking_pa, categories, True)"
   ]
  },
  {
   "cell_type": "code",
   "execution_count": 60,
   "metadata": {},
   "outputs": [
    {
     "data": {
      "text/plain": [
       "Audi       good\n",
       "BMW         bad\n",
       "Fiat     medium\n",
       "Honda       bad\n",
       "Opel       good\n",
       "dtype: object"
      ]
     },
     "execution_count": 60,
     "metadata": {},
     "output_type": "execute_result"
    }
   ],
   "source": [
    "assign_tri_nb_class(crisp_outranking_ap, crisp_outranking_pa, categories, False)"
   ]
  }
 ],
 "metadata": {
  "kernelspec": {
   "display_name": "Python 3",
   "language": "python",
   "name": "python3"
  },
  "language_info": {
   "codemirror_mode": {
    "name": "ipython",
    "version": 3
   },
   "file_extension": ".py",
   "mimetype": "text/x-python",
   "name": "python",
   "nbconvert_exporter": "python",
   "pygments_lexer": "ipython3",
   "version": "3.10.4"
  },
  "orig_nbformat": 4,
  "vscode": {
   "interpreter": {
    "hash": "1dd0381d1fc2fb15dda0c9601b2866ce5a466e54b3f253773e8ed097d13694fa"
   }
  }
 },
 "nbformat": 4,
 "nbformat_minor": 2
}
