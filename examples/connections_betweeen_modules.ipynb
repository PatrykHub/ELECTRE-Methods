{
 "cells": [
  {
   "cell_type": "code",
   "execution_count": 1,
   "metadata": {},
   "outputs": [],
   "source": [
    "import sys\n",
    "import os\n",
    "sys.path.append(os.path.abspath('../'))\n",
    "from mcda.electre.concordance import *\n",
    "from mcda.electre.discordance import *\n",
    "from mcda.electre.credibility import *\n",
    "from mcda.core.scales import QuantitativeScale, PreferenceDirection\n",
    "from mcda.core.functions import Threshold"
   ]
  },
  {
   "cell_type": "code",
   "execution_count": 2,
   "metadata": {},
   "outputs": [],
   "source": [
    "from operator import index\n",
    "\n",
    "\n",
    "fiat   = [100, 1000, 6.0]\n",
    "vwPolo = [150, 5000, 5.7]\n",
    "nissan   = [110, 4000, 6.8]\n",
    "toyota = [170, 3000, 5.5]\n",
    "suzuki   = [140, 2000, 7.8]\n",
    "ford = [120, 6000, 8.0]\n",
    "cars = pd.DataFrame([fiat, vwPolo, nissan,  toyota,  suzuki,  ford], index=['fiat', 'vwPolo' , 'nissan' , 'toyota' , 'suzuki', 'ford' ])\n",
    "\n",
    "scales  = pd.Series([QuantitativeScale(100,   500),\n",
    "           QuantitativeScale(1000, 6000, PreferenceDirection.MIN), \n",
    "           QuantitativeScale(0.0, 15.0, PreferenceDirection.MIN)])\n",
    "weights = pd.Series([2, 3, 5])"
   ]
  },
  {
   "cell_type": "code",
   "execution_count": 3,
   "metadata": {},
   "outputs": [],
   "source": [
    "indifference = pd.Series([\n",
    "    Threshold(0.1, 10),\n",
    "    Threshold(0, 500),\n",
    "    Threshold(0, 0.1)\n",
    "])\n",
    "preference = pd.Series([\n",
    "    Threshold(0.3, 20),\n",
    "    Threshold(0.4, 500),\n",
    "    Threshold(0.1, 0.7)\n",
    "])\n",
    "veto = [\n",
    "    Threshold(0, 100), \n",
    "    Threshold(0, 3500),\n",
    "    Threshold(0, 3.5)\n",
    "]"
   ]
  },
  {
   "cell_type": "code",
   "execution_count": 4,
   "metadata": {},
   "outputs": [
    {
     "name": "stdout",
     "output_type": "stream",
     "text": [
      "100.0\n",
      "1000.0\n",
      "6.0\n",
      "100.0\n",
      "1000.0\n",
      "6.0\n",
      "100.0\n",
      "1000.0\n",
      "6.0\n",
      "100.0\n",
      "1000.0\n",
      "6.0\n",
      "100.0\n",
      "1000.0\n",
      "6.0\n",
      "100.0\n",
      "1000.0\n",
      "6.0\n",
      "150.0\n",
      "5000.0\n",
      "5.7\n",
      "150.0\n",
      "5000.0\n",
      "5.7\n",
      "150.0\n",
      "5000.0\n",
      "5.7\n",
      "150.0\n",
      "5000.0\n",
      "5.7\n",
      "150.0\n",
      "5000.0\n",
      "5.7\n",
      "150.0\n",
      "5000.0\n",
      "5.7\n",
      "110.0\n",
      "4000.0\n",
      "6.8\n",
      "110.0\n",
      "4000.0\n",
      "6.8\n",
      "110.0\n",
      "4000.0\n",
      "6.8\n",
      "110.0\n",
      "4000.0\n",
      "6.8\n",
      "110.0\n",
      "4000.0\n",
      "6.8\n",
      "110.0\n",
      "4000.0\n",
      "6.8\n",
      "170.0\n",
      "3000.0\n",
      "5.5\n",
      "170.0\n",
      "3000.0\n",
      "5.5\n",
      "170.0\n",
      "3000.0\n",
      "5.5\n",
      "170.0\n",
      "3000.0\n",
      "5.5\n",
      "170.0\n",
      "3000.0\n",
      "5.5\n",
      "170.0\n",
      "3000.0\n",
      "5.5\n",
      "140.0\n",
      "2000.0\n",
      "7.8\n",
      "140.0\n",
      "2000.0\n",
      "7.8\n",
      "140.0\n",
      "2000.0\n",
      "7.8\n",
      "140.0\n",
      "2000.0\n",
      "7.8\n",
      "140.0\n",
      "2000.0\n",
      "7.8\n",
      "140.0\n",
      "2000.0\n",
      "7.8\n",
      "120.0\n",
      "6000.0\n",
      "8.0\n",
      "120.0\n",
      "6000.0\n",
      "8.0\n",
      "120.0\n",
      "6000.0\n",
      "8.0\n",
      "120.0\n",
      "6000.0\n",
      "8.0\n",
      "120.0\n",
      "6000.0\n",
      "8.0\n",
      "120.0\n",
      "6000.0\n",
      "8.0\n",
      "            fiat    vwPolo    nissan    toyota    suzuki  ford\n",
      "fiat    1.000000  0.716667  1.000000  0.633333  0.866667   1.0\n",
      "vwPolo  0.700000  1.000000  0.925000  0.732265  0.700000   1.0\n",
      "nissan  0.426563  0.490625  1.000000  0.237500  0.662500   1.0\n",
      "toyota  0.700000  1.000000  1.000000  1.000000  0.875000   1.0\n",
      "suzuki  0.312500  0.500000  0.673913  0.468421  1.000000   1.0\n",
      "ford    0.200000  0.390441  0.419643  0.035294  0.664286   1.0\n"
     ]
    }
   ],
   "source": [
    "concordance_comprehensive = concordance(\n",
    "    cars, scales, weights, indifference, preference\n",
    ")\n",
    "print(concordance_comprehensive)"
   ]
  },
  {
   "cell_type": "code",
   "execution_count": 5,
   "metadata": {},
   "outputs": [
    {
     "name": "stdout",
     "output_type": "stream",
     "text": [
      "            fiat    vwPolo  nissan    toyota  suzuki  ford\n",
      "fiat    0.000000  0.000000     0.0  0.120000    0.00   0.0\n",
      "vwPolo  0.300000  0.000000     0.0  0.000000    0.15   0.0\n",
      "nissan  0.107143  0.000000     0.0  0.170213    0.00   0.0\n",
      "toyota  0.250000  0.000000     0.0  0.000000    0.00   0.0\n",
      "suzuki  0.420792  0.346535     0.0  0.297030    0.00   0.0\n",
      "ford    0.675000  0.300000     0.0  0.500000    0.30   0.0\n"
     ]
    }
   ],
   "source": [
    "discordance_comprehensive = discordance(\n",
    "    cars, scales, weights, preference, veto, None\n",
    ")\n",
    "print(discordance_comprehensive)"
   ]
  },
  {
   "cell_type": "code",
   "execution_count": 6,
   "metadata": {},
   "outputs": [],
   "source": [
    "counter_veto_thresholds = pd.Series([Threshold(0, 100), Threshold(0, 3500), Threshold(0, 3.5)])"
   ]
  },
  {
   "cell_type": "code",
   "execution_count": 7,
   "metadata": {},
   "outputs": [
    {
     "name": "stdout",
     "output_type": "stream",
     "text": [
      "        fiat  vwPolo  nissan  toyota  suzuki  ford\n",
      "fiat       0       0       0       0       0     0\n",
      "vwPolo     1       0       0       0       0     0\n",
      "nissan     0       0       0       0       0     0\n",
      "toyota     0       0       0       0       0     0\n",
      "suzuki     0       0       0       0       0     0\n",
      "ford       1       0       0       0       1     0\n"
     ]
    }
   ],
   "source": [
    "current_veto_occurs = counter_veto_count(\n",
    "    cars, scales, counter_veto_thresholds\n",
    ")\n",
    "print(current_veto_occurs)"
   ]
  },
  {
   "cell_type": "code",
   "execution_count": 8,
   "metadata": {},
   "outputs": [
    {
     "name": "stdout",
     "output_type": "stream",
     "text": [
      "          0         1    2         3         4    5\n",
      "0  0.000000  0.000000  0.0  0.076000  0.000000  0.0\n",
      "1  0.700000  0.000000  0.0  0.000000  0.105000  0.0\n",
      "2  0.045703  0.000000  0.0  0.040426  0.000000  0.0\n",
      "3  0.175000  0.000000  0.0  0.000000  0.000000  0.0\n",
      "4  0.131498  0.173267  0.0  0.139135  0.000000  0.0\n",
      "5  0.200000  0.117132  0.0  0.017647  0.664286  0.0\n"
     ]
    }
   ],
   "source": [
    "print(credibility_cv(\n",
    "    concordance_comprehensive.values, discordance_comprehensive.values, current_veto_occurs.values\n",
    "))"
   ]
  }
 ],
 "metadata": {
  "kernelspec": {
   "display_name": "Python 3.10.4 64-bit",
   "language": "python",
   "name": "python3"
  },
  "language_info": {
   "codemirror_mode": {
    "name": "ipython",
    "version": 3
   },
   "file_extension": ".py",
   "mimetype": "text/x-python",
   "name": "python",
   "nbconvert_exporter": "python",
   "pygments_lexer": "ipython3",
   "version": "3.10.4"
  },
  "orig_nbformat": 4,
  "vscode": {
   "interpreter": {
    "hash": "1dd0381d1fc2fb15dda0c9601b2866ce5a466e54b3f253773e8ed097d13694fa"
   }
  }
 },
 "nbformat": 4,
 "nbformat_minor": 2
}
