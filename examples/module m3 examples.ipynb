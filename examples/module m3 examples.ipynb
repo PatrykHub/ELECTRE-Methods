{
 "cells": [
  {
   "cell_type": "code",
   "execution_count": 1,
   "metadata": {
    "pycharm": {
     "is_executing": false,
     "name": "#%%\n"
    }
   },
   "outputs": [],
   "source": [
    "import sys\n",
    "import os\n",
    "sys.path.append(os.path.abspath('../'))\n",
    "from mcda.electre.concordance import *\n",
    "from mcda.core.scales import QuantitativeScale, PreferenceDirection"
   ]
  },
  {
   "cell_type": "code",
   "execution_count": 2,
   "metadata": {
    "pycharm": {
     "is_executing": false,
     "name": "#%%\n"
    }
   },
   "outputs": [],
   "source": [
    "fiat   = [100, 1000, 6.0]\n",
    "vwPolo = [150, 5000, 5.7]\n",
    "nissan   = [110, 4000, 6.8]\n",
    "toyota = [170, 3000, 5.5]\n",
    "suzuki   = [140, 2000, 7.8]\n",
    "ford = [120, 6000, 8.0]\n",
    "car_index=['fiat', 'vwPolo' , 'nissan' , 'toyota' , 'suzuki', 'ford' ]\n",
    "cars = pd.DataFrame([fiat, vwPolo, nissan,  toyota,  suzuki,  ford], index=car_index)\n",
    "\n",
    "profile1   = [113, 1200, 7.0]\n",
    "profile2 = [180, 3500, 6.7]\n",
    "profile3   = [199, 3400, 8.8]\n",
    "profiles = pd.DataFrame([profile1, profile2, profile3], index=['profile1', 'profile2', 'profile3'])"
   ]
  },
  {
   "cell_type": "code",
   "execution_count": 3,
   "metadata": {
    "pycharm": {
     "is_executing": false,
     "name": "#%%\n"
    }
   },
   "outputs": [],
   "source": [
    "scales  = pd.Series([QuantitativeScale(100,   500),\n",
    "           QuantitativeScale(1000, 6000, PreferenceDirection.MIN), \n",
    "           QuantitativeScale(0.0, 15.0, PreferenceDirection.MIN)])\n",
    "weights = pd.Series([2, 3, 5])"
   ]
  },
  {
   "cell_type": "code",
   "execution_count": 4,
   "metadata": {
    "pycharm": {
     "is_executing": false,
     "name": "#%%\n"
    }
   },
   "outputs": [],
   "source": [
    "indifference = pd.Series([\n",
    "    Threshold(0.1, 10),\n",
    "    Threshold(0, 500),\n",
    "    Threshold(0, 0.1)\n",
    "])\n",
    "preference = pd.Series([\n",
    "    Threshold(0.3, 20),\n",
    "    Threshold(0.4, 500),\n",
    "    Threshold(0.1, 0.7)\n",
    "])"
   ]
  },
  {
   "cell_type": "code",
   "execution_count": 5,
   "outputs": [],
   "source": [
    "interactions = pd.DataFrame([[Interaction() for j in range(len(profile1))] \\\n",
    "                             for i in range(len(profile1))])\n",
    "interactions[0][2].set_interaction('a', 'min', 0.4)\n",
    "interactions[1][2].set_interaction('MW', 'multi', 0.4)"
   ],
   "metadata": {
    "collapsed": false,
    "pycharm": {
     "name": "#%%\n",
     "is_executing": false
    }
   }
  },
  {
   "cell_type": "code",
   "execution_count": 6,
   "metadata": {
    "pycharm": {
     "name": "#%%\n",
     "is_executing": false
    }
   },
   "outputs": [
    {
     "name": "stdout",
     "text": [
      "            fiat    vwPolo    nissan    toyota    suzuki  ford\n",
      "fiat    1.000000  0.833333  1.000000  0.764957  0.917695   1.0\n",
      "vwPolo  0.117647  1.000000  0.922680  0.545025  0.117647   1.0\n",
      "nissan  0.181899  0.509922  1.000000  0.264063  0.416216   1.0\n",
      "toyota  0.117647  1.000000  1.000000  1.000000  0.849398   1.0\n",
      "suzuki  0.312500  0.500000  0.693126  0.468421  1.000000   1.0\n",
      "ford    0.200000  0.390441  0.373313  0.035294  0.132841   1.0\n"
     ],
     "output_type": "stream"
    }
   ],
   "source": [
    "print(concordance_with_interactions(\n",
    "    cars, scales, weights, indifference, preference, interactions\n",
    "))"
   ]
  }
 ],
 "metadata": {
  "kernelspec": {
   "display_name": "Python 3 (ipykernel)",
   "language": "python",
   "name": "python3"
  },
  "language_info": {
   "codemirror_mode": {
    "name": "ipython",
    "version": 3
   },
   "file_extension": ".py",
   "mimetype": "text/x-python",
   "name": "python",
   "nbconvert_exporter": "python",
   "pygments_lexer": "ipython3",
   "version": "3.9.9"
  },
  "pycharm": {
   "stem_cell": {
    "cell_type": "raw",
    "source": [],
    "metadata": {
     "collapsed": false
    }
   }
  }
 },
 "nbformat": 4,
 "nbformat_minor": 1
}