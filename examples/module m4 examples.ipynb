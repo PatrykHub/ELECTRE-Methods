{
 "cells": [
  {
   "cell_type": "code",
   "execution_count": 1,
   "metadata": {},
   "outputs": [],
   "source": [
    "import sys\n",
    "import os\n",
    "sys.path.append(os.path.abspath('../'))\n",
    "from mcda.electre.discordance import *\n",
    "from mcda.core.scales import QuantitativeScale, PreferenceDirection"
   ]
  },
  {
   "cell_type": "code",
   "execution_count": 2,
   "metadata": {},
   "outputs": [],
   "source": [
    "fiat   = [100, 1000, 6.0]\n",
    "vwPolo = [150, 5000, 5.7]\n",
    "nissan   = [110, 4000, 6.8]\n",
    "toyota = [170, 3000, 5.5]\n",
    "suzuki   = [140, 2000, 7.8]\n",
    "ford = [120, 6000, 8.0]\n",
    "cars = pd.DataFrame([fiat, vwPolo, nissan,  toyota,  suzuki,  ford], index=['fiat', 'vwPolo' , 'nissan' , 'toyota' , 'suzuki', 'ford' ])"
   ]
  },
  {
   "cell_type": "code",
   "execution_count": 3,
   "metadata": {},
   "outputs": [],
   "source": [
    "scales  = pd.Series([QuantitativeScale(100,   500),\n",
    "           QuantitativeScale(1000, 6000, PreferenceDirection.MIN), \n",
    "           QuantitativeScale(0.0, 15.0, PreferenceDirection.MIN)])\n",
    "weights = pd.Series([2, 3, 5])"
   ]
  },
  {
   "cell_type": "code",
   "execution_count": 8,
   "metadata": {},
   "outputs": [],
   "source": [
    "veto= pd.Series([\n",
    "    Threshold(0, 0), \n",
    "    Threshold(0, 100), \n",
    "    Threshold(0, 0.6)])"
   ]
  },
  {
   "cell_type": "code",
   "execution_count": 11,
   "metadata": {},
   "outputs": [
    {
     "name": "stdout",
     "output_type": "stream",
     "text": [
      "1\n",
      "0\n"
     ]
    }
   ],
   "source": [
    "for i in range(2):\n",
    "    print(discordance_bin_marginal(\n",
    "        fiat[i], vwPolo[i], scales[i], veto[i]\n",
    "    ))"
   ]
  },
  {
   "cell_type": "code",
   "execution_count": 12,
   "metadata": {},
   "outputs": [
    {
     "name": "stdout",
     "output_type": "stream",
     "text": [
      "        fiat  vwPolo  nissan  toyota  suzuki  ford\n",
      "fiat       1       1       1       1       1     1\n",
      "vwPolo     1       1       1       1       1     0\n",
      "nissan     1       1       1       1       1     1\n",
      "toyota     1       0       0       1       1     0\n",
      "suzuki     1       1       0       1       1     0\n",
      "ford       1       1       1       1       1     1\n"
     ]
    }
   ],
   "source": [
    "print(discordance_bin(\n",
    "    cars, scales, veto\n",
    "))"
   ]
  }
 ],
 "metadata": {
  "kernelspec": {
   "display_name": "Python 3.10.4 64-bit",
   "language": "python",
   "name": "python3"
  },
  "language_info": {
   "codemirror_mode": {
    "name": "ipython",
    "version": 3
   },
   "file_extension": ".py",
   "mimetype": "text/x-python",
   "name": "python",
   "nbconvert_exporter": "python",
   "pygments_lexer": "ipython3",
   "version": "3.10.4"
  },
  "orig_nbformat": 4,
  "vscode": {
   "interpreter": {
    "hash": "1dd0381d1fc2fb15dda0c9601b2866ce5a466e54b3f253773e8ed097d13694fa"
   }
  }
 },
 "nbformat": 4,
 "nbformat_minor": 2
}
