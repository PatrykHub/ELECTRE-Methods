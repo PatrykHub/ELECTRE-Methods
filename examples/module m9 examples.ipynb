{
 "cells": [
  {
   "cell_type": "code",
   "execution_count": 11,
   "metadata": {},
   "outputs": [],
   "source": [
    "import sys\n",
    "import os\n",
    "sys.path.append(os.path.abspath('../'))\n",
    "from mcda.core.scales import QuantitativeScale, PreferenceDirection\n",
    "from mcda.electre.credibility import credibility_electre_iv"
   ]
  },
  {
   "cell_type": "code",
   "execution_count": 12,
   "metadata": {},
   "outputs": [],
   "source": [
    "ITA = [90, 4, 600]\n",
    "BEL = [58, 0, 200]\n",
    "GER = [66, 7, 400]\n",
    "AUT = [74, 8, 800]\n",
    "FRA = [98, 6, 800]"
   ]
  },
  {
   "cell_type": "code",
   "execution_count": 13,
   "metadata": {},
   "outputs": [],
   "source": [
    "scales = [\n",
    "    QuantitativeScale(0, 100),\n",
    "    QuantitativeScale(0, 10),\n",
    "    QuantitativeScale(0, 1000, PreferenceDirection.MIN),\n",
    "]"
   ]
  },
  {
   "cell_type": "code",
   "execution_count": 14,
   "metadata": {},
   "outputs": [],
   "source": [
    "indifference = [4, 1, 100]\n",
    "preference = [12, 2, 200]\n",
    "veto = [28, 8, 600]"
   ]
  },
  {
   "cell_type": "code",
   "execution_count": 15,
   "metadata": {},
   "outputs": [
    {
     "data": {
      "text/plain": [
       "[[1.0, 0.2, 0.0, 0.2, 0.0],\n",
       " [0.0, 1.0, 0.0, 0.0, 0.0],\n",
       " [0.2, 0.0, 1.0, 0.6, 0.0],\n",
       " [0.0, 0.2, 0.0, 1.0, 0.0],\n",
       " [0.0, 0.2, 0.0, 0.0, 1.0]]"
      ]
     },
     "execution_count": 15,
     "metadata": {},
     "output_type": "execute_result"
    }
   ],
   "source": [
    "credibility_electre_iv(\n",
    "    [ITA, BEL, GER, AUT, FRA], scales, indifference, preference, veto\n",
    ")"
   ]
  }
 ],
 "metadata": {
  "kernelspec": {
   "display_name": "Python 3.10.6 64-bit",
   "language": "python",
   "name": "python3"
  },
  "language_info": {
   "codemirror_mode": {
    "name": "ipython",
    "version": 3
   },
   "file_extension": ".py",
   "mimetype": "text/x-python",
   "name": "python",
   "nbconvert_exporter": "python",
   "pygments_lexer": "ipython3",
   "version": "3.10.6"
  },
  "orig_nbformat": 4,
  "vscode": {
   "interpreter": {
    "hash": "916dbcbb3f70747c44a77c7bcd40155683ae19c65e1c03b4aa3499c5328201f1"
   }
  }
 },
 "nbformat": 4,
 "nbformat_minor": 2
}
