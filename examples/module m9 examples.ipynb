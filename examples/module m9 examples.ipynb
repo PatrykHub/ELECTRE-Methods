{
 "cells": [
  {
   "cell_type": "code",
   "execution_count": 1,
   "metadata": {},
   "outputs": [],
   "source": [
    "import sys\n",
    "import os\n",
    "sys.path.append(os.path.abspath('../'))\n",
    "from mcda.core.scales import QuantitativeScale, PreferenceDirection\n",
    "from mcda.electre.credibility import *"
   ]
  },
  {
   "cell_type": "code",
   "execution_count": 2,
   "metadata": {},
   "outputs": [],
   "source": [
    "ITA = [90, 4, 600]\n",
    "BEL = [58, 0, 200]\n",
    "GER = [66, 7, 400]\n",
    "AUT = [74, 8, 800]\n",
    "FRA = [98, 6, 800]"
   ]
  },
  {
   "cell_type": "code",
   "execution_count": 3,
   "metadata": {},
   "outputs": [],
   "source": [
    "scales = [\n",
    "    QuantitativeScale(0, 100),\n",
    "    QuantitativeScale(0, 10),\n",
    "    QuantitativeScale(0, 1000, PreferenceDirection.MIN),\n",
    "]"
   ]
  },
  {
   "cell_type": "code",
   "execution_count": 4,
   "metadata": {},
   "outputs": [],
   "source": [
    "indifference = [4, 1, 100]\n",
    "prefference = [12, 2, 200]\n",
    "veto = [28, 8, 600]"
   ]
  },
  {
   "cell_type": "code",
   "execution_count": 5,
   "metadata": {},
   "outputs": [
    {
     "data": {
      "text/plain": [
       "[[1.0, 0.2, 0, 0.2, 0],\n",
       " [0, 1.0, 0, 0, 0],\n",
       " [0.2, 0, 1.0, 0.6, 0],\n",
       " [0, 0.2, 0, 1.0, 0],\n",
       " [0, 0.2, 0, 0, 1.0]]"
      ]
     },
     "execution_count": 5,
     "metadata": {},
     "output_type": "execute_result"
    }
   ],
   "source": [
    "credibility_electre_iv(\n",
    "    [ITA, BEL, GER, AUT, FRA], scales, indifference, prefference, veto\n",
    ")"
   ]
  }
 ],
 "metadata": {
  "kernelspec": {
   "display_name": "Python 3.10.4 ('.venv': venv)",
   "language": "python",
   "name": "python3"
  },
  "language_info": {
   "codemirror_mode": {
    "name": "ipython",
    "version": 3
   },
   "file_extension": ".py",
   "mimetype": "text/x-python",
   "name": "python",
   "nbconvert_exporter": "python",
   "pygments_lexer": "ipython3",
   "version": "3.10.4"
  },
  "orig_nbformat": 4,
  "vscode": {
   "interpreter": {
    "hash": "990a679a28511c2dd3bbdaa326aa82577d88b3ae5d494cce7c77815e31c08261"
   }
  }
 },
 "nbformat": 4,
 "nbformat_minor": 2
}
