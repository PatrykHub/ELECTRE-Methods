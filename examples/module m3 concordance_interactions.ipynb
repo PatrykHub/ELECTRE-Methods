{
 "cells": [
  {
   "cell_type": "code",
   "execution_count": 1,
   "metadata": {
    "collapsed": true,
    "pycharm": {
     "name": "#%%\n"
    }
   },
   "outputs": [],
   "source": [
    "import sys\n",
    "import os\n",
    "sys.path.append(os.path.abspath('../'))"
   ]
  },
  {
   "cell_type": "code",
   "execution_count": 2,
   "metadata": {},
   "outputs": [],
   "source": [
    "import pandas as pd\n",
    "\n",
    "from mcda.electre.concordance import (\n",
    "    concordance_with_interactions,\n",
    "    concordance_with_interactions_marginal,\n",
    "    FunctionType,\n",
    "    Interaction,\n",
    "    InteractionType\n",
    ")\n",
    "from mcda.core.scales import QuantitativeScale, PreferenceDirection\n",
    "from mcda.core.functions import Threshold"
   ]
  },
  {
   "cell_type": "markdown",
   "metadata": {},
   "source": [
    "1. Create dataframes"
   ]
  },
  {
   "cell_type": "code",
   "execution_count": 3,
   "metadata": {},
   "outputs": [],
   "source": [
    "alternative_names = ['fiat', 'vwPolo' , 'nissan' , 'toyota' , 'suzuki', 'ford' ]\n",
    "criteria_names = ['C1', 'C2', 'C3', 'C4', 'C5', 'C6']\n",
    "profile_names = ['P1', 'P2', 'P3']"
   ]
  },
  {
   "cell_type": "code",
   "execution_count": 4,
   "metadata": {
    "collapsed": false,
    "pycharm": {
     "name": "#%%\n"
    }
   },
   "outputs": [
    {
     "data": {
      "text/html": [
       "<div>\n",
       "<style scoped>\n",
       "    .dataframe tbody tr th:only-of-type {\n",
       "        vertical-align: middle;\n",
       "    }\n",
       "\n",
       "    .dataframe tbody tr th {\n",
       "        vertical-align: top;\n",
       "    }\n",
       "\n",
       "    .dataframe thead th {\n",
       "        text-align: right;\n",
       "    }\n",
       "</style>\n",
       "<table border=\"1\" class=\"dataframe\">\n",
       "  <thead>\n",
       "    <tr style=\"text-align: right;\">\n",
       "      <th></th>\n",
       "      <th>C1</th>\n",
       "      <th>C2</th>\n",
       "      <th>C3</th>\n",
       "      <th>C4</th>\n",
       "      <th>C5</th>\n",
       "      <th>C6</th>\n",
       "    </tr>\n",
       "  </thead>\n",
       "  <tbody>\n",
       "    <tr>\n",
       "      <th>fiat</th>\n",
       "      <td>4000</td>\n",
       "      <td>311</td>\n",
       "      <td>0.988</td>\n",
       "      <td>90</td>\n",
       "      <td>2</td>\n",
       "      <td>8.50</td>\n",
       "    </tr>\n",
       "    <tr>\n",
       "      <th>vwPolo</th>\n",
       "      <td>10000</td>\n",
       "      <td>150</td>\n",
       "      <td>0.800</td>\n",
       "      <td>60</td>\n",
       "      <td>4</td>\n",
       "      <td>6.66</td>\n",
       "    </tr>\n",
       "    <tr>\n",
       "      <th>nissan</th>\n",
       "      <td>21370</td>\n",
       "      <td>255</td>\n",
       "      <td>0.500</td>\n",
       "      <td>90</td>\n",
       "      <td>5</td>\n",
       "      <td>7.77</td>\n",
       "    </tr>\n",
       "    <tr>\n",
       "      <th>toyota</th>\n",
       "      <td>9999</td>\n",
       "      <td>99</td>\n",
       "      <td>0.900</td>\n",
       "      <td>99</td>\n",
       "      <td>9</td>\n",
       "      <td>9.99</td>\n",
       "    </tr>\n",
       "    <tr>\n",
       "      <th>suzuki</th>\n",
       "      <td>12345</td>\n",
       "      <td>12</td>\n",
       "      <td>0.760</td>\n",
       "      <td>43</td>\n",
       "      <td>4</td>\n",
       "      <td>1.50</td>\n",
       "    </tr>\n",
       "    <tr>\n",
       "      <th>ford</th>\n",
       "      <td>0</td>\n",
       "      <td>1</td>\n",
       "      <td>0.000</td>\n",
       "      <td>0</td>\n",
       "      <td>0</td>\n",
       "      <td>0.00</td>\n",
       "    </tr>\n",
       "  </tbody>\n",
       "</table>\n",
       "</div>"
      ],
      "text/plain": [
       "           C1   C2     C3  C4  C5    C6\n",
       "fiat     4000  311  0.988  90   2  8.50\n",
       "vwPolo  10000  150  0.800  60   4  6.66\n",
       "nissan  21370  255  0.500  90   5  7.77\n",
       "toyota   9999   99  0.900  99   9  9.99\n",
       "suzuki  12345   12  0.760  43   4  1.50\n",
       "ford        0    1  0.000   0   0  0.00"
      ]
     },
     "execution_count": 4,
     "metadata": {},
     "output_type": "execute_result"
    }
   ],
   "source": [
    "cars = pd.DataFrame(\n",
    "    [\n",
    "        [4000, 311, 0.988, 90, 2, 8.5],\n",
    "        [10000, 150, 0.8, 60, 4, 6.66],\n",
    "        [21370, 255, 0.5, 90, 5, 7.77],\n",
    "        [9999, 99, 0.9, 99, 9, 9.99],\n",
    "        [12345, 12, 0.76, 43, 4, 1.5],\n",
    "        [0, 1, 0, 0, 0, 0],\n",
    "    ],\n",
    "    index=alternative_names,\n",
    "    columns=criteria_names,\n",
    ")\n",
    "cars"
   ]
  },
  {
   "cell_type": "code",
   "execution_count": 5,
   "metadata": {},
   "outputs": [
    {
     "data": {
      "text/html": [
       "<div>\n",
       "<style scoped>\n",
       "    .dataframe tbody tr th:only-of-type {\n",
       "        vertical-align: middle;\n",
       "    }\n",
       "\n",
       "    .dataframe tbody tr th {\n",
       "        vertical-align: top;\n",
       "    }\n",
       "\n",
       "    .dataframe thead th {\n",
       "        text-align: right;\n",
       "    }\n",
       "</style>\n",
       "<table border=\"1\" class=\"dataframe\">\n",
       "  <thead>\n",
       "    <tr style=\"text-align: right;\">\n",
       "      <th></th>\n",
       "      <th>C1</th>\n",
       "      <th>C2</th>\n",
       "      <th>C3</th>\n",
       "      <th>C4</th>\n",
       "      <th>C5</th>\n",
       "      <th>C6</th>\n",
       "    </tr>\n",
       "  </thead>\n",
       "  <tbody>\n",
       "    <tr>\n",
       "      <th>P1</th>\n",
       "      <td>1200</td>\n",
       "      <td>25</td>\n",
       "      <td>0.3000</td>\n",
       "      <td>40</td>\n",
       "      <td>9</td>\n",
       "      <td>7.0</td>\n",
       "    </tr>\n",
       "    <tr>\n",
       "      <th>P2</th>\n",
       "      <td>3500</td>\n",
       "      <td>45</td>\n",
       "      <td>0.6000</td>\n",
       "      <td>60</td>\n",
       "      <td>4</td>\n",
       "      <td>6.7</td>\n",
       "    </tr>\n",
       "    <tr>\n",
       "      <th>P3</th>\n",
       "      <td>3400</td>\n",
       "      <td>90</td>\n",
       "      <td>0.7654</td>\n",
       "      <td>98</td>\n",
       "      <td>2</td>\n",
       "      <td>8.8</td>\n",
       "    </tr>\n",
       "  </tbody>\n",
       "</table>\n",
       "</div>"
      ],
      "text/plain": [
       "      C1  C2      C3  C4  C5   C6\n",
       "P1  1200  25  0.3000  40   9  7.0\n",
       "P2  3500  45  0.6000  60   4  6.7\n",
       "P3  3400  90  0.7654  98   2  8.8"
      ]
     },
     "execution_count": 5,
     "metadata": {},
     "output_type": "execute_result"
    }
   ],
   "source": [
    "profiles = pd.DataFrame(\n",
    "    [\n",
    "        [1200, 25, 0.3, 40, 9, 7.0],\n",
    "        [3500, 45, 0.6, 60, 4, 6.7],\n",
    "        [3400, 90, 0.7654, 98, 2, 8.8]\n",
    "    ],\n",
    "    index=profile_names,\n",
    "    columns=criteria_names\n",
    ") \n",
    "profiles"
   ]
  },
  {
   "cell_type": "markdown",
   "metadata": {},
   "source": [
    "2. Create series with thresholds and specify criteria scales and weights"
   ]
  },
  {
   "cell_type": "code",
   "execution_count": 6,
   "metadata": {},
   "outputs": [
    {
     "data": {
      "text/plain": [
       "C1      Scale [0, 50000], max direction\n",
       "C2       Scale [0, 1000], max direction\n",
       "C3      Scale [0.0, 1.0], max direction\n",
       "C4    Scale [0.0, 150.0], max direction\n",
       "C5     Scale [0.0, 15.0], min direction\n",
       "C6     Scale [0.0, 15.0], min direction\n",
       "dtype: object"
      ]
     },
     "execution_count": 6,
     "metadata": {},
     "output_type": "execute_result"
    }
   ],
   "source": [
    "scales = pd.Series([\n",
    "    QuantitativeScale(0, 50000),\n",
    "    QuantitativeScale(0, 1000),\n",
    "    QuantitativeScale(0.0, 1.0),\n",
    "    QuantitativeScale(0.0, 150.0),\n",
    "    QuantitativeScale(0.0, 15.0, PreferenceDirection.MIN),\n",
    "    QuantitativeScale(0.0, 15.0, PreferenceDirection.MIN),\n",
    "], index=criteria_names)\n",
    "scales"
   ]
  },
  {
   "cell_type": "code",
   "execution_count": 7,
   "metadata": {},
   "outputs": [
    {
     "data": {
      "text/plain": [
       "C1    2\n",
       "C2    3\n",
       "C3    5\n",
       "C4    1\n",
       "C5    3\n",
       "C6    4\n",
       "dtype: int64"
      ]
     },
     "execution_count": 7,
     "metadata": {},
     "output_type": "execute_result"
    }
   ],
   "source": [
    "weights = pd.Series([2, 3, 5, 1, 3, 4], index=criteria_names)\n",
    "weights"
   ]
  },
  {
   "cell_type": "code",
   "execution_count": 8,
   "metadata": {
    "collapsed": false,
    "pycharm": {
     "name": "#%%\n"
    }
   },
   "outputs": [
    {
     "data": {
      "text/plain": [
       "C1    Threshold: alpha=0.1, beta=1000\n",
       "C2       Threshold: alpha=0, beta=500\n",
       "C3       Threshold: alpha=0, beta=0.1\n",
       "C4       Threshold: alpha=0.1, beta=0\n",
       "C5       Threshold: alpha=0.2, beta=2\n",
       "C6       Threshold: alpha=0, beta=1.5\n",
       "dtype: object"
      ]
     },
     "execution_count": 8,
     "metadata": {},
     "output_type": "execute_result"
    }
   ],
   "source": [
    "indifference = pd.Series([\n",
    "    Threshold(0.1, 1000),\n",
    "    Threshold(0, 500),\n",
    "    Threshold(0, 0.1),\n",
    "    Threshold(0.1, 0),\n",
    "    Threshold(0.2, 2),\n",
    "    Threshold(0, 1.5),\n",
    "], index=criteria_names)\n",
    "indifference"
   ]
  },
  {
   "cell_type": "code",
   "execution_count": 9,
   "metadata": {
    "collapsed": false,
    "pycharm": {
     "name": "#%%\n"
    }
   },
   "outputs": [
    {
     "data": {
      "text/plain": [
       "C1    Threshold: alpha=0.15, beta=1500\n",
       "C2        Threshold: alpha=0, beta=550\n",
       "C3        Threshold: alpha=0, beta=0.4\n",
       "C4      Threshold: alpha=0.4, beta=0.2\n",
       "C5       Threshold: alpha=0.2, beta=10\n",
       "C6        Threshold: alpha=0, beta=4.5\n",
       "dtype: object"
      ]
     },
     "execution_count": 9,
     "metadata": {},
     "output_type": "execute_result"
    }
   ],
   "source": [
    "preference = pd.Series([\n",
    "    Threshold(0.15, 1500),\n",
    "    Threshold(0, 550),\n",
    "    Threshold(0, 0.4),\n",
    "    Threshold(0.4, 0.2),\n",
    "    Threshold(0.2, 10),\n",
    "    Threshold(0, 4.5),\n",
    "], index=criteria_names)\n",
    "preference"
   ]
  },
  {
   "cell_type": "code",
   "execution_count": 10,
   "metadata": {},
   "outputs": [
    {
     "data": {
      "text/html": [
       "<div>\n",
       "<style scoped>\n",
       "    .dataframe tbody tr th:only-of-type {\n",
       "        vertical-align: middle;\n",
       "    }\n",
       "\n",
       "    .dataframe tbody tr th {\n",
       "        vertical-align: top;\n",
       "    }\n",
       "\n",
       "    .dataframe thead th {\n",
       "        text-align: right;\n",
       "    }\n",
       "</style>\n",
       "<table border=\"1\" class=\"dataframe\">\n",
       "  <thead>\n",
       "    <tr style=\"text-align: right;\">\n",
       "      <th></th>\n",
       "      <th>C1</th>\n",
       "      <th>C2</th>\n",
       "      <th>C3</th>\n",
       "      <th>C4</th>\n",
       "      <th>C5</th>\n",
       "      <th>C6</th>\n",
       "    </tr>\n",
       "  </thead>\n",
       "  <tbody>\n",
       "    <tr>\n",
       "      <th>C1</th>\n",
       "      <td>None</td>\n",
       "      <td>None</td>\n",
       "      <td>None</td>\n",
       "      <td>None</td>\n",
       "      <td>None</td>\n",
       "      <td>None</td>\n",
       "    </tr>\n",
       "    <tr>\n",
       "      <th>C2</th>\n",
       "      <td>None</td>\n",
       "      <td>None</td>\n",
       "      <td>None</td>\n",
       "      <td>None</td>\n",
       "      <td>None</td>\n",
       "      <td>None</td>\n",
       "    </tr>\n",
       "    <tr>\n",
       "      <th>C3</th>\n",
       "      <td>Antagonistic | 3.4</td>\n",
       "      <td>None</td>\n",
       "      <td>None</td>\n",
       "      <td>None</td>\n",
       "      <td>None</td>\n",
       "      <td>None</td>\n",
       "    </tr>\n",
       "    <tr>\n",
       "      <th>C4</th>\n",
       "      <td>None</td>\n",
       "      <td>None</td>\n",
       "      <td>None</td>\n",
       "      <td>None</td>\n",
       "      <td>None</td>\n",
       "      <td>None</td>\n",
       "    </tr>\n",
       "    <tr>\n",
       "      <th>C5</th>\n",
       "      <td>None</td>\n",
       "      <td>None</td>\n",
       "      <td>None</td>\n",
       "      <td>None</td>\n",
       "      <td>None</td>\n",
       "      <td>Mutual Strengthening | 3.5</td>\n",
       "    </tr>\n",
       "    <tr>\n",
       "      <th>C6</th>\n",
       "      <td>None</td>\n",
       "      <td>Mutual Weakening | -4.6</td>\n",
       "      <td>None</td>\n",
       "      <td>None</td>\n",
       "      <td>None</td>\n",
       "      <td>None</td>\n",
       "    </tr>\n",
       "  </tbody>\n",
       "</table>\n",
       "</div>"
      ],
      "text/plain": [
       "                     C1                        C2    C3    C4    C5  \\\n",
       "C1                 None                      None  None  None  None   \n",
       "C2                 None                      None  None  None  None   \n",
       "C3  Antagonistic | 3.4                       None  None  None  None   \n",
       "C4                 None                      None  None  None  None   \n",
       "C5                 None                      None  None  None  None   \n",
       "C6                 None  Mutual Weakening | -4.6   None  None  None   \n",
       "\n",
       "                             C6  \n",
       "C1                         None  \n",
       "C2                         None  \n",
       "C3                         None  \n",
       "C4                         None  \n",
       "C5  Mutual Strengthening | 3.5   \n",
       "C6                         None  "
      ]
     },
     "execution_count": 10,
     "metadata": {},
     "output_type": "execute_result"
    }
   ],
   "source": [
    "interactions = pd.DataFrame([\n",
    "    [None, None, None, None, None, None],\n",
    "    [None, None, None, None, None, None],\n",
    "    [Interaction(InteractionType.A, 3.4), None, None, None, None, None],\n",
    "    [None, None, None, None, None, None],\n",
    "    [None, None, None, None, None, Interaction(InteractionType.MS, 3.5)],\n",
    "    [None, Interaction(InteractionType.MW, -4.6), None, None, None, None],\n",
    "], index=criteria_names, columns=criteria_names)\n",
    "interactions"
   ]
  },
  {
   "cell_type": "markdown",
   "metadata": {},
   "source": [
    "3. Short example with comprehensive index calculations\n",
    "\n",
    "Between fiat and suzuki:"
   ]
  },
  {
   "cell_type": "code",
   "execution_count": 11,
   "metadata": {},
   "outputs": [
    {
     "data": {
      "text/plain": [
       "0.589041095890411"
      ]
     },
     "execution_count": 11,
     "metadata": {},
     "output_type": "execute_result"
    }
   ],
   "source": [
    "concordance_with_interactions_marginal(\n",
    "    cars.loc['fiat'],\n",
    "    cars.loc['suzuki'],\n",
    "    scales,\n",
    "    weights,\n",
    "    indifference,\n",
    "    preference,\n",
    "    interactions\n",
    ")"
   ]
  },
  {
   "cell_type": "markdown",
   "metadata": {},
   "source": [
    "5. Concordance table between alternatives and alternatives, with min function to capture the interactions effect"
   ]
  },
  {
   "cell_type": "code",
   "execution_count": 12,
   "metadata": {},
   "outputs": [
    {
     "data": {
      "text/html": [
       "<div>\n",
       "<style scoped>\n",
       "    .dataframe tbody tr th:only-of-type {\n",
       "        vertical-align: middle;\n",
       "    }\n",
       "\n",
       "    .dataframe tbody tr th {\n",
       "        vertical-align: top;\n",
       "    }\n",
       "\n",
       "    .dataframe thead th {\n",
       "        text-align: right;\n",
       "    }\n",
       "</style>\n",
       "<table border=\"1\" class=\"dataframe\">\n",
       "  <thead>\n",
       "    <tr style=\"text-align: right;\">\n",
       "      <th></th>\n",
       "      <th>fiat</th>\n",
       "      <th>vwPolo</th>\n",
       "      <th>nissan</th>\n",
       "      <th>toyota</th>\n",
       "      <th>suzuki</th>\n",
       "      <th>ford</th>\n",
       "    </tr>\n",
       "  </thead>\n",
       "  <tbody>\n",
       "    <tr>\n",
       "      <th>fiat</th>\n",
       "      <td>1.000000</td>\n",
       "      <td>0.819934</td>\n",
       "      <td>0.851852</td>\n",
       "      <td>0.851852</td>\n",
       "      <td>0.589041</td>\n",
       "      <td>0.777778</td>\n",
       "    </tr>\n",
       "    <tr>\n",
       "      <th>vwPolo</th>\n",
       "      <td>0.854043</td>\n",
       "      <td>1.000000</td>\n",
       "      <td>0.777778</td>\n",
       "      <td>0.925926</td>\n",
       "      <td>0.678767</td>\n",
       "      <td>0.752778</td>\n",
       "    </tr>\n",
       "    <tr>\n",
       "      <th>nissan</th>\n",
       "      <td>0.704142</td>\n",
       "      <td>0.802761</td>\n",
       "      <td>1.000000</td>\n",
       "      <td>0.704142</td>\n",
       "      <td>0.629630</td>\n",
       "      <td>0.736111</td>\n",
       "    </tr>\n",
       "    <tr>\n",
       "      <th>toyota</th>\n",
       "      <td>0.922581</td>\n",
       "      <td>0.796062</td>\n",
       "      <td>0.779497</td>\n",
       "      <td>1.000000</td>\n",
       "      <td>0.647792</td>\n",
       "      <td>0.669444</td>\n",
       "    </tr>\n",
       "    <tr>\n",
       "      <th>suzuki</th>\n",
       "      <td>0.814596</td>\n",
       "      <td>0.933929</td>\n",
       "      <td>0.777778</td>\n",
       "      <td>0.886442</td>\n",
       "      <td>1.000000</td>\n",
       "      <td>0.972519</td>\n",
       "    </tr>\n",
       "    <tr>\n",
       "      <th>ford</th>\n",
       "      <td>0.526627</td>\n",
       "      <td>0.526627</td>\n",
       "      <td>0.526627</td>\n",
       "      <td>0.526627</td>\n",
       "      <td>0.526627</td>\n",
       "      <td>1.000000</td>\n",
       "    </tr>\n",
       "  </tbody>\n",
       "</table>\n",
       "</div>"
      ],
      "text/plain": [
       "            fiat    vwPolo    nissan    toyota    suzuki      ford\n",
       "fiat    1.000000  0.819934  0.851852  0.851852  0.589041  0.777778\n",
       "vwPolo  0.854043  1.000000  0.777778  0.925926  0.678767  0.752778\n",
       "nissan  0.704142  0.802761  1.000000  0.704142  0.629630  0.736111\n",
       "toyota  0.922581  0.796062  0.779497  1.000000  0.647792  0.669444\n",
       "suzuki  0.814596  0.933929  0.777778  0.886442  1.000000  0.972519\n",
       "ford    0.526627  0.526627  0.526627  0.526627  0.526627  1.000000"
      ]
     },
     "execution_count": 12,
     "metadata": {},
     "output_type": "execute_result"
    }
   ],
   "source": [
    "concordance_with_interactions(\n",
    "    cars,\n",
    "    scales,\n",
    "    weights,\n",
    "    indifference,\n",
    "    preference,\n",
    "    interactions,\n",
    ")"
   ]
  },
  {
   "cell_type": "markdown",
   "metadata": {},
   "source": [
    "6. Concordance table between alternatives and profiles, with multiply function to capture the interactions effect."
   ]
  },
  {
   "cell_type": "code",
   "execution_count": 13,
   "metadata": {},
   "outputs": [],
   "source": [
    "alt_prof, prof_alt = concordance_with_interactions(\n",
    "    cars,\n",
    "    scales,\n",
    "    weights,\n",
    "    indifference,\n",
    "    preference,\n",
    "    interactions,\n",
    "    FunctionType.MUL,\n",
    "    profiles,\n",
    ")"
   ]
  },
  {
   "cell_type": "code",
   "execution_count": 14,
   "metadata": {},
   "outputs": [
    {
     "data": {
      "text/html": [
       "<div>\n",
       "<style scoped>\n",
       "    .dataframe tbody tr th:only-of-type {\n",
       "        vertical-align: middle;\n",
       "    }\n",
       "\n",
       "    .dataframe tbody tr th {\n",
       "        vertical-align: top;\n",
       "    }\n",
       "\n",
       "    .dataframe thead th {\n",
       "        text-align: right;\n",
       "    }\n",
       "</style>\n",
       "<table border=\"1\" class=\"dataframe\">\n",
       "  <thead>\n",
       "    <tr style=\"text-align: right;\">\n",
       "      <th></th>\n",
       "      <th>P1</th>\n",
       "      <th>P2</th>\n",
       "      <th>P3</th>\n",
       "    </tr>\n",
       "  </thead>\n",
       "  <tbody>\n",
       "    <tr>\n",
       "      <th>fiat</th>\n",
       "      <td>1.000000</td>\n",
       "      <td>0.970610</td>\n",
       "      <td>1.000000</td>\n",
       "    </tr>\n",
       "    <tr>\n",
       "      <th>vwPolo</th>\n",
       "      <td>1.000000</td>\n",
       "      <td>1.000000</td>\n",
       "      <td>0.940828</td>\n",
       "    </tr>\n",
       "    <tr>\n",
       "      <th>nissan</th>\n",
       "      <td>1.000000</td>\n",
       "      <td>1.000000</td>\n",
       "      <td>0.836884</td>\n",
       "    </tr>\n",
       "    <tr>\n",
       "      <th>toyota</th>\n",
       "      <td>0.886127</td>\n",
       "      <td>0.836452</td>\n",
       "      <td>0.922581</td>\n",
       "    </tr>\n",
       "    <tr>\n",
       "      <th>suzuki</th>\n",
       "      <td>1.000000</td>\n",
       "      <td>0.942635</td>\n",
       "      <td>0.940828</td>\n",
       "    </tr>\n",
       "    <tr>\n",
       "      <th>ford</th>\n",
       "      <td>0.674419</td>\n",
       "      <td>0.526627</td>\n",
       "      <td>0.526627</td>\n",
       "    </tr>\n",
       "  </tbody>\n",
       "</table>\n",
       "</div>"
      ],
      "text/plain": [
       "              P1        P2        P3\n",
       "fiat    1.000000  0.970610  1.000000\n",
       "vwPolo  1.000000  1.000000  0.940828\n",
       "nissan  1.000000  1.000000  0.836884\n",
       "toyota  0.886127  0.836452  0.922581\n",
       "suzuki  1.000000  0.942635  0.940828\n",
       "ford    0.674419  0.526627  0.526627"
      ]
     },
     "execution_count": 14,
     "metadata": {},
     "output_type": "execute_result"
    }
   ],
   "source": [
    "alt_prof"
   ]
  },
  {
   "cell_type": "code",
   "execution_count": 15,
   "metadata": {},
   "outputs": [
    {
     "data": {
      "text/html": [
       "<div>\n",
       "<style scoped>\n",
       "    .dataframe tbody tr th:only-of-type {\n",
       "        vertical-align: middle;\n",
       "    }\n",
       "\n",
       "    .dataframe tbody tr th {\n",
       "        vertical-align: top;\n",
       "    }\n",
       "\n",
       "    .dataframe thead th {\n",
       "        text-align: right;\n",
       "    }\n",
       "</style>\n",
       "<table border=\"1\" class=\"dataframe\">\n",
       "  <thead>\n",
       "    <tr style=\"text-align: right;\">\n",
       "      <th></th>\n",
       "      <th>fiat</th>\n",
       "      <th>vwPolo</th>\n",
       "      <th>nissan</th>\n",
       "      <th>toyota</th>\n",
       "      <th>suzuki</th>\n",
       "      <th>ford</th>\n",
       "    </tr>\n",
       "  </thead>\n",
       "  <tbody>\n",
       "    <tr>\n",
       "      <th>P1</th>\n",
       "      <td>0.406452</td>\n",
       "      <td>0.483969</td>\n",
       "      <td>0.674019</td>\n",
       "      <td>0.526627</td>\n",
       "      <td>0.363889</td>\n",
       "      <td>0.627193</td>\n",
       "    </tr>\n",
       "    <tr>\n",
       "      <th>P2</th>\n",
       "      <td>0.654021</td>\n",
       "      <td>0.749431</td>\n",
       "      <td>0.777778</td>\n",
       "      <td>0.598309</td>\n",
       "      <td>0.541885</td>\n",
       "      <td>0.752778</td>\n",
       "    </tr>\n",
       "    <tr>\n",
       "      <th>P3</th>\n",
       "      <td>0.862767</td>\n",
       "      <td>0.792253</td>\n",
       "      <td>0.851852</td>\n",
       "      <td>0.814523</td>\n",
       "      <td>0.589041</td>\n",
       "      <td>0.777778</td>\n",
       "    </tr>\n",
       "  </tbody>\n",
       "</table>\n",
       "</div>"
      ],
      "text/plain": [
       "        fiat    vwPolo    nissan    toyota    suzuki      ford\n",
       "P1  0.406452  0.483969  0.674019  0.526627  0.363889  0.627193\n",
       "P2  0.654021  0.749431  0.777778  0.598309  0.541885  0.752778\n",
       "P3  0.862767  0.792253  0.851852  0.814523  0.589041  0.777778"
      ]
     },
     "execution_count": 15,
     "metadata": {},
     "output_type": "execute_result"
    }
   ],
   "source": [
    "prof_alt"
   ]
  },
  {
   "cell_type": "code",
   "execution_count": null,
   "metadata": {},
   "outputs": [],
   "source": []
  }
 ],
 "metadata": {
  "kernelspec": {
   "display_name": "Python 3.10.8 ('.venv': venv)",
   "language": "python",
   "name": "python3"
  },
  "language_info": {
   "codemirror_mode": {
    "name": "ipython",
    "version": 3
   },
   "file_extension": ".py",
   "mimetype": "text/x-python",
   "name": "python",
   "nbconvert_exporter": "python",
   "pygments_lexer": "ipython3",
   "version": "3.10.8"
  },
  "vscode": {
   "interpreter": {
    "hash": "6f4a4216854a4521dc3a2bb89ced8c6603eb79f339f8153cf4da93540f99a2b5"
   }
  }
 },
 "nbformat": 4,
 "nbformat_minor": 0
}
