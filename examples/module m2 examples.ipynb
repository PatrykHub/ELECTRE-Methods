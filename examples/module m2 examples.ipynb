{
 "cells": [
  {
   "cell_type": "code",
   "execution_count": 1,
   "metadata": {
    "collapsed": true
   },
   "outputs": [],
   "source": [
    "import sys\n",
    "import os\n",
    "sys.path.append(os.path.abspath('../'))\n",
    "from mcda.electre.concordance import *\n",
    "from mcda.core.scales import QuantitativeScale, PreferenceDirection"
   ]
  },
  {
   "cell_type": "code",
   "execution_count": 2,
   "metadata": {
    "collapsed": false,
    "pycharm": {
     "name": "#%%\n"
    }
   },
   "outputs": [],
   "source": [
    "fiat   = [100, 1000, 6.0]\n",
    "vwPolo = [150, 5000, 5.7]\n",
    "nissan   = [110, 4000, 6.8]\n",
    "toyota = [170, 3000, 5.5]\n",
    "suzuki   = [140, 2000, 7.8]\n",
    "ford = [120, 6000, 8.0]\n",
    "cars = pd.DataFrame([fiat, vwPolo, nissan,  toyota,  suzuki,  ford], index=['fiat', 'vwPolo' , 'nissan' , 'toyota' , 'suzuki', 'ford' ])\n",
    "\n",
    "profile1   = [113, 1200, 7.0]\n",
    "profile2 = [180, 3500, 6.7]\n",
    "profile3   = [199, 3400, 8.8]\n",
    "profiles = pd.DataFrame([profile1, profile2, profile3], index=['profile1', 'profile2', 'profile3'])"
   ]
  },
  {
   "cell_type": "code",
   "execution_count": 3,
   "metadata": {
    "collapsed": false,
    "pycharm": {
     "name": "#%%\n"
    }
   },
   "outputs": [],
   "source": [
    "scales  = pd.Series([QuantitativeScale(100,   500),\n",
    "           QuantitativeScale(1000, 6000, PreferenceDirection.MIN), \n",
    "           QuantitativeScale(0.0, 15.0, PreferenceDirection.MIN)])\n",
    "weights = pd.Series([2, 3, 5])"
   ]
  },
  {
   "cell_type": "code",
   "execution_count": 4,
   "metadata": {
    "collapsed": false,
    "pycharm": {
     "name": "#%%\n"
    }
   },
   "outputs": [],
   "source": [
    "indifference = pd.Series([\n",
    "    Threshold(0.1, 10),\n",
    "    Threshold(0, 500),\n",
    "    Threshold(0, 0.1)\n",
    "])\n",
    "preference = pd.Series([\n",
    "    Threshold(0.3, 20),\n",
    "    Threshold(0.4, 500),\n",
    "    Threshold(0.1, 0.7)\n",
    "])\n",
    "reinforce =pd.Series([\n",
    "    Threshold(0, 800),\n",
    "    Threshold(0, 2000),\n",
    "    Threshold(0, 4)\n",
    "])"
   ]
  },
  {
   "cell_type": "code",
   "execution_count": 5,
   "metadata": {
    "collapsed": false,
    "pycharm": {
     "name": "#%%\n"
    }
   },
   "outputs": [
    {
     "name": "stdout",
     "output_type": "stream",
     "text": [
      "0.0\n",
      "1.0\n",
      "1.0\n",
      "0.0\n"
     ]
    }
   ],
   "source": [
    "for i in range(2):\n",
    "    print(concordance_marginal(\n",
    "        fiat[i], vwPolo[i], scales[i], indifference[i], preference[i]\n",
    "    ))\n",
    "for i in range(2):\n",
    "    print(concordance_marginal(\n",
    "        vwPolo[i], fiat[i], scales[i], indifference[i], preference[i]\n",
    "    ))"
   ]
  },
  {
   "cell_type": "code",
   "execution_count": 6,
   "metadata": {
    "collapsed": false,
    "pycharm": {
     "name": "#%%\n"
    }
   },
   "outputs": [
    {
     "name": "stdout",
     "output_type": "stream",
     "text": [
      "0.7 1.0 1.0\n"
     ]
    }
   ],
   "source": [
    "print(\n",
    "    concordance_comprehensive(\n",
    "        cars.loc[\"vwPolo\"], cars.loc[\"fiat\"], scales, weights, indifference, preference\n",
    "    ),\n",
    "    concordance_reinforced_comprehensive(\n",
    "        cars.loc[\"vwPolo\"], cars.loc[\"fiat\"], scales, weights, indifference,\n",
    "        preference, reinforce, pd.Series([1.0, 1.0, 0.1])\n",
    "    ),\n",
    "    concordance_reinforced_comprehensive(\n",
    "        cars.loc[\"vwPolo\"], cars.loc[\"fiat\"], scales, weights, indifference,\n",
    "        preference, reinforce, pd.Series([1, 0.5, 0.1])\n",
    "    )\n",
    ")"
   ]
  },
  {
   "cell_type": "code",
   "execution_count": 10,
   "metadata": {
    "collapsed": false,
    "pycharm": {
     "name": "#%%\n"
    }
   },
   "outputs": [
    {
     "name": "stdout",
     "output_type": "stream",
     "text": [
      "            fiat    vwPolo    nissan    toyota    suzuki  ford\n",
      "fiat    1.000000  0.895833  1.000000  0.791667  1.000000   1.0\n",
      "vwPolo  1.000000  1.000000  0.906250  0.665331  1.000000   1.0\n",
      "nissan  0.453125  0.511719  1.000000  0.296875  0.648438   1.0\n",
      "toyota  0.625000  1.000000  1.000000  1.000000  0.843750   1.0\n",
      "suzuki  0.140625  0.375000  0.592391  0.375000  1.000000   1.0\n",
      "ford    0.000000  0.296875  0.274554  0.000000  0.928571   1.0\n",
      "----------\n",
      "            fiat    vwPolo    nissan    toyota    suzuki  ford\n",
      "fiat    1.000000  0.895833  1.000000  0.791667  1.000000   1.0\n",
      "vwPolo  1.000000  1.000000  0.906250  0.665331  1.000000   1.0\n",
      "nissan  1.000000  0.511719  1.000000  0.296875  0.648438   1.0\n",
      "toyota  0.625000  1.000000  1.000000  1.000000  0.843750   1.0\n",
      "suzuki  0.140625  0.375000  0.592391  0.375000  1.000000   1.0\n",
      "ford    1.000000  0.296875  0.274554  1.000000  1.000000   1.0\n"
     ]
    }
   ],
   "source": [
    "print(concordance_reinforced(\n",
    "    cars, scales, weights, indifference, preference, reinforce, [0, 0, 0]\n",
    "))\n",
    "\n",
    "print('-' * 10)\n",
    "print(concordance_reinforced(\n",
    "    cars, scales, weights, indifference, preference, reinforce, [0, 1000000000, 200000000000]\n",
    "))"
   ]
  },
  {
   "cell_type": "code",
   "execution_count": 13,
   "metadata": {
    "collapsed": false,
    "pycharm": {
     "name": "#%%\n"
    }
   },
   "outputs": [
    {
     "name": "stdout",
     "output_type": "stream",
     "text": [
      "        profile1  profile2  profile3\n",
      "fiat    1.000000  1.000000  1.000000\n",
      "vwPolo  1.000000  0.812500  0.793750\n",
      "nissan  1.000000  1.000000  0.976562\n",
      "toyota  0.625000  1.000000  1.000000\n",
      "suzuki  0.542346  0.547101  1.000000\n",
      "ford    0.357143  0.142857  1.000000\n",
      "----------\n",
      "        profile1  profile2  profile3\n",
      "fiat         1.0       1.0       1.0\n",
      "vwPolo       1.0       1.0       1.0\n",
      "nissan       1.0       1.0       1.0\n",
      "toyota       1.0       1.0       1.0\n",
      "suzuki       1.0       1.0       1.0\n",
      "ford         1.0       1.0       1.0\n"
     ]
    }
   ],
   "source": [
    "print(concordance_reinforced(\n",
    "    cars, scales, weights, indifference,\n",
    "    preference, reinforce, [0, 0, 0], profiles_perform=profiles\n",
    "))\n",
    "\n",
    "print('-' * 10)\n",
    "print(concordance_reinforced(\n",
    "    cars, scales, weights, indifference,\n",
    "    preference, reinforce, [1000000000, 1000000000, 1000000000], profiles_perform=profiles\n",
    "))\n"
   ]
  },
  {
   "cell_type": "code",
   "execution_count": null,
   "metadata": {
    "collapsed": false,
    "pycharm": {
     "name": "#%%\n"
    }
   },
   "outputs": [],
   "source": []
  }
 ],
 "metadata": {
  "kernelspec": {
   "display_name": "Python 3.10.4 64-bit",
   "language": "python",
   "name": "python3"
  },
  "language_info": {
   "codemirror_mode": {
    "name": "ipython",
    "version": 2
   },
   "file_extension": ".py",
   "mimetype": "text/x-python",
   "name": "python",
   "nbconvert_exporter": "python",
   "pygments_lexer": "ipython2",
   "version": "3.10.4"
  },
  "vscode": {
   "interpreter": {
    "hash": "1dd0381d1fc2fb15dda0c9601b2866ce5a466e54b3f253773e8ed097d13694fa"
   }
  }
 },
 "nbformat": 4,
 "nbformat_minor": 0
}
