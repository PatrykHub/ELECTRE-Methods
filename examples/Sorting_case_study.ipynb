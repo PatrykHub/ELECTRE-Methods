{
 "cells": [
  {
   "cell_type": "code",
   "execution_count": null,
   "outputs": [],
   "source": [],
   "metadata": {
    "collapsed": false
   }
  },
  {
   "cell_type": "code",
   "execution_count": 1,
   "outputs": [],
   "source": [
    "import sys\n",
    "import os\n",
    "sys.path.append(os.path.abspath('../'))"
   ],
   "metadata": {
    "collapsed": false
   }
  },
  {
   "cell_type": "code",
   "execution_count": 44,
   "outputs": [],
   "source": [
    "import pandas as pd\n",
    "\n",
    "from mcda.electre.concordance import concordance_reinforced, concordance_reinforced_comprehensive, concordance_comprehensive\n",
    "from mcda.core.scales import QuantitativeScale, PreferenceDirection\n",
    "from mcda.core.functions import Threshold"
   ],
   "metadata": {
    "collapsed": false
   }
  },
  {
   "cell_type": "markdown",
   "source": [
    "1. Create dataframes"
   ],
   "metadata": {
    "collapsed": false
   }
  },
  {
   "cell_type": "code",
   "execution_count": 3,
   "outputs": [],
   "source": [
    "alternative_names = ['Spain', 'France' , 'Italy' , 'Greece' , 'Portugal', 'United Kingdom',\n",
    "                     'Norway', 'Brazil', 'Japan', 'Bahamas', 'Canada', 'Switzerland', 'Australia',\n",
    "                     'New Zealand', 'Mexico', 'Germany', 'Thailand', 'United States']\n",
    "criteria_names = ['HDI', 'Crime rate', 'Climate', 'Wealth Gini']"
   ],
   "metadata": {
    "collapsed": false
   }
  },
  {
   "cell_type": "code",
   "execution_count": 4,
   "outputs": [
    {
     "data": {
      "text/plain": "                  HDI  Crime rate  Climate  Wealth Gini\nSpain           0.905          33        5           69\nFrance          0.903          51        4           70\nItaly           0.895          44        5           67\nGreece          0.887          45        5           68\nPortugal        0.886          29        4           70\nUnited Kingdom  0.929          46        3           70\nNorway          0.961          33        2           79\nBrazil          0.754          67        4           89\nJapan           0.925          22        4           64\nBahamas         0.812          62        5           89\nCanada          0.936          41        3           72\nSwitzerland     0.962          21        3           77\nAustralia       0.951          43        5           66\nNew Zealand     0.937          42        4           70\nMexico          0.758          54        5           80\nGermany         0.942          35        3           78\nThailand        0.800          39        4           77\nUnited States   0.921          47        4           85",
      "text/html": "<div>\n<style scoped>\n    .dataframe tbody tr th:only-of-type {\n        vertical-align: middle;\n    }\n\n    .dataframe tbody tr th {\n        vertical-align: top;\n    }\n\n    .dataframe thead th {\n        text-align: right;\n    }\n</style>\n<table border=\"1\" class=\"dataframe\">\n  <thead>\n    <tr style=\"text-align: right;\">\n      <th></th>\n      <th>HDI</th>\n      <th>Crime rate</th>\n      <th>Climate</th>\n      <th>Wealth Gini</th>\n    </tr>\n  </thead>\n  <tbody>\n    <tr>\n      <th>Spain</th>\n      <td>0.905</td>\n      <td>33</td>\n      <td>5</td>\n      <td>69</td>\n    </tr>\n    <tr>\n      <th>France</th>\n      <td>0.903</td>\n      <td>51</td>\n      <td>4</td>\n      <td>70</td>\n    </tr>\n    <tr>\n      <th>Italy</th>\n      <td>0.895</td>\n      <td>44</td>\n      <td>5</td>\n      <td>67</td>\n    </tr>\n    <tr>\n      <th>Greece</th>\n      <td>0.887</td>\n      <td>45</td>\n      <td>5</td>\n      <td>68</td>\n    </tr>\n    <tr>\n      <th>Portugal</th>\n      <td>0.886</td>\n      <td>29</td>\n      <td>4</td>\n      <td>70</td>\n    </tr>\n    <tr>\n      <th>United Kingdom</th>\n      <td>0.929</td>\n      <td>46</td>\n      <td>3</td>\n      <td>70</td>\n    </tr>\n    <tr>\n      <th>Norway</th>\n      <td>0.961</td>\n      <td>33</td>\n      <td>2</td>\n      <td>79</td>\n    </tr>\n    <tr>\n      <th>Brazil</th>\n      <td>0.754</td>\n      <td>67</td>\n      <td>4</td>\n      <td>89</td>\n    </tr>\n    <tr>\n      <th>Japan</th>\n      <td>0.925</td>\n      <td>22</td>\n      <td>4</td>\n      <td>64</td>\n    </tr>\n    <tr>\n      <th>Bahamas</th>\n      <td>0.812</td>\n      <td>62</td>\n      <td>5</td>\n      <td>89</td>\n    </tr>\n    <tr>\n      <th>Canada</th>\n      <td>0.936</td>\n      <td>41</td>\n      <td>3</td>\n      <td>72</td>\n    </tr>\n    <tr>\n      <th>Switzerland</th>\n      <td>0.962</td>\n      <td>21</td>\n      <td>3</td>\n      <td>77</td>\n    </tr>\n    <tr>\n      <th>Australia</th>\n      <td>0.951</td>\n      <td>43</td>\n      <td>5</td>\n      <td>66</td>\n    </tr>\n    <tr>\n      <th>New Zealand</th>\n      <td>0.937</td>\n      <td>42</td>\n      <td>4</td>\n      <td>70</td>\n    </tr>\n    <tr>\n      <th>Mexico</th>\n      <td>0.758</td>\n      <td>54</td>\n      <td>5</td>\n      <td>80</td>\n    </tr>\n    <tr>\n      <th>Germany</th>\n      <td>0.942</td>\n      <td>35</td>\n      <td>3</td>\n      <td>78</td>\n    </tr>\n    <tr>\n      <th>Thailand</th>\n      <td>0.800</td>\n      <td>39</td>\n      <td>4</td>\n      <td>77</td>\n    </tr>\n    <tr>\n      <th>United States</th>\n      <td>0.921</td>\n      <td>47</td>\n      <td>4</td>\n      <td>85</td>\n    </tr>\n  </tbody>\n</table>\n</div>"
     },
     "execution_count": 4,
     "metadata": {},
     "output_type": "execute_result"
    }
   ],
   "source": [
    "alternatives_perform = [[0.905, 33, 5, 69],\n",
    "                        [0.903, 51, 4, 70],\n",
    "                        [0.895, 44, 5, 67],\n",
    "                        [0.887, 45, 5, 68],\n",
    "                        [0.886, 29, 4, 70],\n",
    "                        [0.929, 46, 3, 70],\n",
    "                        [0.961, 33, 2, 79],\n",
    "                        [0.754, 67, 4, 89],\n",
    "                        [0.925, 22, 4, 64],\n",
    "                        [0.812, 62, 5, 89],\n",
    "                        [0.936, 41, 3, 72],\n",
    "                        [0.962, 21, 3, 77],\n",
    "                        [0.951, 43, 5, 66],\n",
    "                        [0.937, 42, 4, 70],\n",
    "                        [0.758, 54, 5, 80],\n",
    "                        [0.942, 35, 3, 78],\n",
    "                        [0.8, 39, 4, 77],\n",
    "                        [0.921, 47, 4, 85]\n",
    "                        ]\n",
    "countries = pd.DataFrame(alternatives_perform,\n",
    "    index=alternative_names,\n",
    "    columns=criteria_names,\n",
    ")\n",
    "countries\n"
   ],
   "metadata": {
    "collapsed": false
   }
  },
  {
   "cell_type": "markdown",
   "source": [
    "2. Create series with thresholds and specify criteria scales and weights"
   ],
   "metadata": {
    "collapsed": false
   }
  },
  {
   "cell_type": "code",
   "execution_count": 5,
   "outputs": [
    {
     "data": {
      "text/plain": "HDI            Scale [0.7, 1.0], max direction\nCrime rate       Scale [15, 75], min direction\nClimate            Scale [1, 5], max direction\nWealth Gini     Scale [50, 100], min direction\ndtype: object"
     },
     "execution_count": 5,
     "metadata": {},
     "output_type": "execute_result"
    }
   ],
   "source": [
    "scales = pd.Series([\n",
    "    QuantitativeScale(0.7, 1.0),\n",
    "    QuantitativeScale(15, 75, PreferenceDirection.MIN),\n",
    "    QuantitativeScale(1, 5),\n",
    "    QuantitativeScale(50, 100, PreferenceDirection.MIN)\n",
    "], index=criteria_names)\n",
    "scales"
   ],
   "metadata": {
    "collapsed": false
   }
  },
  {
   "cell_type": "code",
   "execution_count": 6,
   "outputs": [
    {
     "data": {
      "text/plain": "HDI            0.30\nCrime rate     0.25\nClimate        0.35\nWealth Gini    0.10\ndtype: float64"
     },
     "execution_count": 6,
     "metadata": {},
     "output_type": "execute_result"
    }
   ],
   "source": [
    "weights = pd.Series([0.3, 0.25, 0.35, 0.1], index=criteria_names)\n",
    "weights"
   ],
   "metadata": {
    "collapsed": false
   }
  },
  {
   "cell_type": "code",
   "execution_count": 7,
   "outputs": [
    {
     "data": {
      "text/plain": "HDI            Threshold: alpha=0, beta=0.01\nCrime rate        Threshold: alpha=0, beta=4\nClimate           Threshold: alpha=0, beta=0\nWealth Gini       Threshold: alpha=0, beta=4\ndtype: object"
     },
     "execution_count": 7,
     "metadata": {},
     "output_type": "execute_result"
    }
   ],
   "source": [
    "indifference = pd.Series([\n",
    "    Threshold(0, 0.01),\n",
    "    Threshold(0, 4),\n",
    "    Threshold(0, 0),\n",
    "    Threshold(0, 4),\n",
    "], index=criteria_names)\n",
    "indifference"
   ],
   "metadata": {
    "collapsed": false
   }
  },
  {
   "cell_type": "code",
   "execution_count": 8,
   "outputs": [
    {
     "data": {
      "text/plain": "HDI            Threshold: alpha=0.01, beta=0.02\nCrime rate           Threshold: alpha=0, beta=8\nClimate              Threshold: alpha=0, beta=1\nWealth Gini          Threshold: alpha=0, beta=7\ndtype: object"
     },
     "execution_count": 8,
     "metadata": {},
     "output_type": "execute_result"
    }
   ],
   "source": [
    "preference = pd.Series([\n",
    "    Threshold(0.01, 0.02),\n",
    "    Threshold(0, 8),\n",
    "    Threshold(0, 1),\n",
    "    Threshold(0, 7)\n",
    "], index=criteria_names)\n",
    "preference"
   ],
   "metadata": {
    "collapsed": false
   }
  },
  {
   "cell_type": "code",
   "execution_count": 9,
   "outputs": [
    {
     "data": {
      "text/plain": "HDI            Threshold: alpha=0, beta=0.1\nCrime rate      Threshold: alpha=0, beta=20\nClimate                                None\nWealth Gini                            None\ndtype: object"
     },
     "execution_count": 9,
     "metadata": {},
     "output_type": "execute_result"
    }
   ],
   "source": [
    "reinforce = pd.Series([\n",
    "    Threshold(0, 0.1),\n",
    "    Threshold(0, 20),\n",
    "    None,\n",
    "    None\n",
    "], index=criteria_names)\n",
    "reinforce"
   ],
   "metadata": {
    "collapsed": false
   }
  },
  {
   "cell_type": "code",
   "execution_count": 10,
   "outputs": [
    {
     "data": {
      "text/plain": "HDI            1.4\nCrime rate     1.2\nClimate        NaN\nWealth Gini    NaN\ndtype: float64"
     },
     "execution_count": 10,
     "metadata": {},
     "output_type": "execute_result"
    }
   ],
   "source": [
    "reinforced_factors = pd.Series([ \n",
    "    1.4,\n",
    "    1.2,\n",
    "    None,\n",
    "    None\n",
    "], index=criteria_names)\n",
    "reinforced_factors\n"
   ],
   "metadata": {
    "collapsed": false
   }
  },
  {
   "cell_type": "markdown",
   "source": [
    "3. Let's begin with comprehensive concordance calculations"
   ],
   "metadata": {
    "collapsed": false
   }
  },
  {
   "cell_type": "code",
   "execution_count": 11,
   "outputs": [
    {
     "data": {
      "text/plain": "0.4"
     },
     "execution_count": 11,
     "metadata": {},
     "output_type": "execute_result"
    }
   ],
   "source": [
    "concordance_reinforced_comprehensive(\n",
    "    countries.loc['France'],\n",
    "    countries.loc['Spain'],\n",
    "    scales,\n",
    "    weights,\n",
    "    indifference,\n",
    "    preference,\n",
    "    reinforce,\n",
    "    reinforced_factors\n",
    ")"
   ],
   "metadata": {
    "collapsed": false
   }
  },
  {
   "cell_type": "code",
   "execution_count": 12,
   "outputs": [
    {
     "name": "stdout",
     "output_type": "stream",
     "text": [
      "                   Spain    France     Italy    Greece  Portugal  \\\n",
      "Spain           1.000000  1.000000  1.000000  1.000000     1.000   \n",
      "France          0.400000  1.000000  0.462500  0.525000     0.750   \n",
      "Italy           0.750000  1.000000  1.000000  1.000000     0.750   \n",
      "Greece          0.622814  0.904610  1.000000  1.000000     0.750   \n",
      "Portugal        0.506840  0.893955  0.650000  0.650000     1.000   \n",
      "United Kingdom  0.400000  0.650000  0.650000  0.650000     0.400   \n",
      "Norway          0.550000  0.550000  0.550000  0.550000     0.550   \n",
      "Brazil          0.000000  0.350000  0.000000  0.000000     0.350   \n",
      "Japan           0.650000  1.000000  0.666667  0.666667     1.000   \n",
      "Bahamas         0.350000  0.350000  0.350000  0.350000     0.350   \n",
      "Canada          0.400000  0.650000  0.616667  0.650000     0.400   \n",
      "Switzerland     0.550000  0.571429  0.571429  0.571429     0.550   \n",
      "Australia       0.750000  1.000000  1.000000  1.000000     0.750   \n",
      "New Zealand     0.400000  1.000000  0.650000  0.650000     0.750   \n",
      "Mexico          0.350000  0.600000  0.350000  0.350000     0.350   \n",
      "Germany         0.550000  0.550000  0.550000  0.550000     0.425   \n",
      "Thailand        0.125000  0.600000  0.250000  0.250000     0.350   \n",
      "United States   0.300000  0.900000  0.550000  0.550000     0.650   \n",
      "\n",
      "                United Kingdom    Norway    Brazil     Japan   Bahamas  \\\n",
      "Spain                 0.779528  0.700000  1.000000  0.559186  1.000000   \n",
      "France                0.685267  0.450000  1.000000  0.494158  0.650000   \n",
      "Italy                 0.700000  0.450000  1.000000  0.450000  1.000000   \n",
      "Greece                0.700000  0.450000  1.000000  0.450000  1.000000   \n",
      "Portugal              0.700000  0.700000  1.000000  0.445833  0.666667   \n",
      "United Kingdom        1.000000  0.450000  0.700855  0.333333  0.687500   \n",
      "Norway                0.550000  1.000000  0.700855  0.300000  0.700855   \n",
      "Brazil                0.350000  0.350000  1.000000  0.350000  0.287500   \n",
      "Japan                 1.000000  0.700000  1.000000  1.000000  0.700855   \n",
      "Bahamas               0.350000  0.350000  1.000000  0.350000  1.000000   \n",
      "Canada                1.000000  0.517562  0.700855  0.300000  0.700855   \n",
      "Switzerland           0.904762  1.000000  0.700855  0.550000  0.700855   \n",
      "Australia             1.000000  0.750000  1.000000  0.750000  1.000000   \n",
      "New Zealand           1.000000  0.533170  1.000000  0.683333  0.687500   \n",
      "Mexico                0.350000  0.450000  1.000000  0.350000  0.700000   \n",
      "Germany               0.900000  0.860968  0.700855  0.300000  0.700855   \n",
      "Thailand              0.600000  0.575000  1.000000  0.350000  0.634921   \n",
      "United States         0.900000  0.383333  1.000000  0.650000  0.687500   \n",
      "\n",
      "                  Canada  Switzerland  Australia  New Zealand    Mexico  \\\n",
      "Spain           0.700000     0.450000   0.700000     0.700000  1.000000   \n",
      "France          0.450000     0.450000   0.100000     0.450000  0.687500   \n",
      "Italy           0.700000     0.450000   0.700000     0.700000  1.000000   \n",
      "Greece          0.700000     0.450000   0.700000     0.700000  1.000000   \n",
      "Portugal        0.700000     0.450000   0.350000     0.700000  0.700855   \n",
      "United Kingdom  0.937500     0.450000   0.463375     0.650000  0.687500   \n",
      "Norway          0.550000     0.400000   0.550000     0.550000  0.700855   \n",
      "Brazil          0.350000     0.350000   0.000000     0.350000  0.300000   \n",
      "Japan           0.984416     0.700000   0.429190     0.968831  0.700855   \n",
      "Bahamas         0.350000     0.350000   0.350000     0.350000  0.650000   \n",
      "Canada          1.000000     0.502066   0.505854     0.650000  0.687500   \n",
      "Switzerland     0.966667     1.000000   0.571429     0.571429  0.700855   \n",
      "Australia       1.000000     0.734623   1.000000     1.000000  1.000000   \n",
      "New Zealand     1.000000     0.517682   0.588049     1.000000  0.687500   \n",
      "Mexico          0.350000     0.450000   0.350000     0.350000  1.000000   \n",
      "Germany         0.933333     0.595520   0.550000     0.550000  0.687500   \n",
      "Thailand        0.666667     0.450000   0.250000     0.600000  0.650000   \n",
      "United States   0.696916     0.350000   0.250000     0.743799  0.657738   \n",
      "\n",
      "                 Germany  Thailand  United States  \n",
      "Spain           0.700000  1.000000       0.905512  \n",
      "France          0.450000  0.776786       0.873883  \n",
      "Italy           0.450000  0.937500       0.746702  \n",
      "Greece          0.450000  0.875000       0.700000  \n",
      "Portugal        0.700000  1.000000       0.700000  \n",
      "United Kingdom  0.703344  0.520089       0.650000  \n",
      "Norway          0.650000  0.687500       0.650000  \n",
      "Brazil          0.350000  0.350000       0.450000  \n",
      "Japan           0.890909  1.000000       1.000000  \n",
      "Bahamas         0.350000  0.650000       0.450000  \n",
      "Canada          0.875000  0.687500       0.650000  \n",
      "Switzerland     1.000000  0.687500       0.666667  \n",
      "Australia       0.750000  1.000000       1.000000  \n",
      "New Zealand     0.812500  1.000000       1.000000  \n",
      "Mexico          0.450000  0.450000       0.512500  \n",
      "Germany         1.000000  0.687500       0.650000  \n",
      "Thailand        0.700000  1.000000       0.700000  \n",
      "United States   0.478214  0.687500       1.000000  \n"
     ]
    }
   ],
   "source": [
    "concordance = concordance_reinforced(\n",
    "    countries,\n",
    "    scales,\n",
    "    weights,\n",
    "    indifference,\n",
    "    preference,\n",
    "    reinforce,\n",
    "    reinforced_factors\n",
    ")\n",
    "print(concordance)"
   ],
   "metadata": {
    "collapsed": false
   }
  },
  {
   "cell_type": "markdown",
   "source": [
    "Let's define profiles."
   ],
   "metadata": {
    "collapsed": false
   }
  },
  {
   "cell_type": "code",
   "execution_count": 13,
   "outputs": [],
   "source": [
    "alternative_names_profiles_out = ['Spain', 'France' , 'Italy' , 'Portugal', 'United Kingdom',\n",
    "                     'Norway', 'Brazil', 'Japan', 'Bahamas', 'Canada', 'Switzerland', 'Australia',\n",
    "                     'New Zealand', 'Mexico', 'Germany']"
   ],
   "metadata": {
    "collapsed": false
   }
  },
  {
   "cell_type": "code",
   "execution_count": 14,
   "outputs": [
    {
     "data": {
      "text/plain": "                 HDI  Crime rate  Climate  Wealth Gini\nUnited States  0.921          47        4           85\nThailand       0.800          39        4           77\nGreece         0.887          45        5           68",
      "text/html": "<div>\n<style scoped>\n    .dataframe tbody tr th:only-of-type {\n        vertical-align: middle;\n    }\n\n    .dataframe tbody tr th {\n        vertical-align: top;\n    }\n\n    .dataframe thead th {\n        text-align: right;\n    }\n</style>\n<table border=\"1\" class=\"dataframe\">\n  <thead>\n    <tr style=\"text-align: right;\">\n      <th></th>\n      <th>HDI</th>\n      <th>Crime rate</th>\n      <th>Climate</th>\n      <th>Wealth Gini</th>\n    </tr>\n  </thead>\n  <tbody>\n    <tr>\n      <th>United States</th>\n      <td>0.921</td>\n      <td>47</td>\n      <td>4</td>\n      <td>85</td>\n    </tr>\n    <tr>\n      <th>Thailand</th>\n      <td>0.800</td>\n      <td>39</td>\n      <td>4</td>\n      <td>77</td>\n    </tr>\n    <tr>\n      <th>Greece</th>\n      <td>0.887</td>\n      <td>45</td>\n      <td>5</td>\n      <td>68</td>\n    </tr>\n  </tbody>\n</table>\n</div>"
     },
     "execution_count": 14,
     "metadata": {},
     "output_type": "execute_result"
    }
   ],
   "source": [
    "alternatives_perform_po = [[0.905, 33, 5, 69],\n",
    "                        [0.903, 51, 4, 70],\n",
    "                        [0.895, 44, 5, 67],\n",
    "                        [0.886, 29, 4, 70],\n",
    "                        [0.929, 46, 3, 70],\n",
    "                        [0.961, 33, 2, 79],\n",
    "                        [0.754, 67, 4, 89],\n",
    "                        [0.925, 22, 4, 64],\n",
    "                        [0.812, 62, 5, 89],\n",
    "                        [0.936, 41, 3, 72],\n",
    "                        [0.962, 21, 3, 77],\n",
    "                        [0.951, 43, 5, 66],\n",
    "                        [0.937, 42, 4, 70],\n",
    "                        [0.758, 54, 5, 80],\n",
    "                        [0.942, 35, 3, 78]\n",
    "                        ]\n",
    "countries_profiles_out = pd.DataFrame(alternatives_perform_po,\n",
    "    index=alternative_names_profiles_out,\n",
    "    columns=criteria_names,\n",
    ")\n",
    "Greece = [0.887, 45, 5, 68]\n",
    "Thailand = [0.8, 39, 4, 77]\n",
    "USA = [0.921, 47, 4, 85]\n",
    "profile_names = [\"United States\", \"Thailand\", \"Greece\"]\n",
    "profiles = pd.DataFrame(\n",
    "    [USA, Thailand, Greece],\n",
    "    index=profile_names,\n",
    "    columns=criteria_names\n",
    ") \n",
    "profiles"
   ],
   "metadata": {
    "collapsed": false
   }
  },
  {
   "cell_type": "code",
   "execution_count": 15,
   "outputs": [
    {
     "data": {
      "text/plain": "(                United States  Thailand    Greece\n Spain                0.905512  1.000000  1.000000\n France               0.873883  0.776786  0.525000\n Italy                0.746702  0.937500  1.000000\n Portugal             0.700000  1.000000  0.650000\n United Kingdom       0.650000  0.520089  0.650000\n Norway               0.650000  0.687500  0.550000\n Brazil               0.450000  0.350000  0.000000\n Japan                1.000000  1.000000  0.666667\n Bahamas              0.450000  0.650000  0.350000\n Canada               0.650000  0.687500  0.650000\n Switzerland          0.666667  0.687500  0.571429\n Australia            1.000000  1.000000  1.000000\n New Zealand          1.000000  1.000000  0.650000\n Mexico               0.512500  0.450000  0.350000\n Germany              0.650000  0.687500  0.550000,\n                   Spain   France  Italy  Portugal  United Kingdom    Norway  \\\n United States  0.300000  0.90000   0.55      0.65             0.9  0.383333   \n Thailand       0.125000  0.60000   0.25      0.35             0.6  0.575000   \n Greece         0.622814  0.90461   1.00      0.75             0.7  0.450000   \n \n                Brazil  Japan   Bahamas    Canada  Switzerland  Australia  \\\n United States     1.0   0.65  0.687500  0.696916         0.35       0.25   \n Thailand          1.0   0.35  0.634921  0.666667         0.45       0.25   \n Greece            1.0   0.45  1.000000  0.700000         0.45       0.70   \n \n                New Zealand    Mexico   Germany  \n United States     0.743799  0.657738  0.478214  \n Thailand          0.600000  0.650000  0.700000  \n Greece            0.700000  1.000000  0.450000  )"
     },
     "execution_count": 15,
     "metadata": {},
     "output_type": "execute_result"
    }
   ],
   "source": [
    "concordance_profiles = concordance_reinforced(\n",
    "    countries_profiles_out,\n",
    "    scales,\n",
    "    weights,\n",
    "    indifference,\n",
    "    preference,\n",
    "    reinforce,\n",
    "    reinforced_factors,\n",
    "    profiles\n",
    ")\n",
    "concordance_profiles"
   ],
   "metadata": {
    "collapsed": false
   }
  },
  {
   "cell_type": "markdown",
   "source": [
    "It's time for defining veto and calculating discordance indices."
   ],
   "metadata": {
    "collapsed": false
   }
  },
  {
   "cell_type": "code",
   "execution_count": 16,
   "outputs": [],
   "source": [
    "from mcda.electre.discordance import discordance_marginals, discordance_comprehensive"
   ],
   "metadata": {
    "collapsed": false
   }
  },
  {
   "cell_type": "code",
   "execution_count": 17,
   "outputs": [
    {
     "data": {
      "text/plain": "HDI                                  None\nCrime rate                           None\nClimate        Threshold: alpha=2, beta=5\nWealth Gini                          None\ndtype: object"
     },
     "execution_count": 17,
     "metadata": {},
     "output_type": "execute_result"
    }
   ],
   "source": [
    "veto = pd.Series([\n",
    "    None,\n",
    "    None,\n",
    "    Threshold(2, 5),\n",
    "    None\n",
    "], index=criteria_names)\n",
    "veto"
   ],
   "metadata": {
    "collapsed": false
   }
  },
  {
   "cell_type": "code",
   "execution_count": 18,
   "outputs": [
    {
     "data": {
      "text/plain": "0.0"
     },
     "execution_count": 18,
     "metadata": {},
     "output_type": "execute_result"
    }
   ],
   "source": [
    "discordance_comprehensive(\n",
    "    countries.loc['Spain'],\n",
    "    countries.loc['Norway'],\n",
    "    scales,\n",
    "    weights,\n",
    "    preference,\n",
    "    veto\n",
    ")"
   ],
   "metadata": {
    "collapsed": false
   }
  },
  {
   "cell_type": "code",
   "execution_count": 19,
   "outputs": [],
   "source": [
    "discord = discordance_marginals(countries,\n",
    "                scales, \n",
    "                preference,\n",
    "                veto)\n",
    "discord_prof = discordance_marginals(countries_profiles_out,\n",
    "                scales, \n",
    "                preference,\n",
    "                veto, profiles_perform=profiles)"
   ],
   "metadata": {
    "collapsed": false
   }
  },
  {
   "cell_type": "markdown",
   "source": [
    "Next step is to calculate non-discordance and pass non-discordance and concordance matrices to credibility module."
   ],
   "metadata": {
    "collapsed": false
   }
  },
  {
   "cell_type": "code",
   "execution_count": 20,
   "outputs": [],
   "source": [
    "from mcda.electre.discordance import non_discordance, NonDiscordanceType\n",
    "from mcda.electre.credibility import credibility_comprehensive"
   ],
   "metadata": {
    "collapsed": false
   }
  },
  {
   "cell_type": "code",
   "execution_count": 21,
   "outputs": [
    {
     "data": {
      "text/plain": "                Spain  France  Italy  Greece  Portugal  United Kingdom  \\\nSpain             NaN     NaN    NaN     NaN       NaN             NaN   \nFrance            NaN     NaN    NaN     NaN       NaN             NaN   \nItaly             NaN     NaN    NaN     NaN       NaN             NaN   \nGreece            NaN     NaN    NaN     NaN       NaN             NaN   \nPortugal          NaN     NaN    NaN     NaN       NaN             NaN   \nUnited Kingdom   0.90     NaN   0.90    0.90       NaN             NaN   \nNorway           0.75   0.875   0.75    0.75     0.875             NaN   \nBrazil            NaN     NaN    NaN     NaN       NaN             NaN   \nJapan             NaN     NaN    NaN     NaN       NaN             NaN   \nBahamas           NaN     NaN    NaN     NaN       NaN             NaN   \nCanada           0.90     NaN   0.90    0.90       NaN             NaN   \nSwitzerland      0.90     NaN   0.90    0.90       NaN             NaN   \nAustralia         NaN     NaN    NaN     NaN       NaN             NaN   \nNew Zealand       NaN     NaN    NaN     NaN       NaN             NaN   \nMexico            NaN     NaN    NaN     NaN       NaN             NaN   \nGermany          0.90     NaN   0.90    0.90       NaN             NaN   \nThailand          NaN     NaN    NaN     NaN       NaN             NaN   \nUnited States     NaN     NaN    NaN     NaN       NaN             NaN   \n\n                Norway  Brazil  Japan  Bahamas  Canada  Switzerland  \\\nSpain              NaN     NaN    NaN      NaN     NaN          NaN   \nFrance             NaN     NaN    NaN      NaN     NaN          NaN   \nItaly              NaN     NaN    NaN      NaN     NaN          NaN   \nGreece             NaN     NaN    NaN      NaN     NaN          NaN   \nPortugal           NaN     NaN    NaN      NaN     NaN          NaN   \nUnited Kingdom     NaN     NaN    NaN     0.90     NaN          NaN   \nNorway             NaN   0.875  0.875     0.75     NaN          NaN   \nBrazil             NaN     NaN    NaN      NaN     NaN          NaN   \nJapan              NaN     NaN    NaN      NaN     NaN          NaN   \nBahamas            NaN     NaN    NaN      NaN     NaN          NaN   \nCanada             NaN     NaN    NaN     0.90     NaN          NaN   \nSwitzerland        NaN     NaN    NaN     0.90     NaN          NaN   \nAustralia          NaN     NaN    NaN      NaN     NaN          NaN   \nNew Zealand        NaN     NaN    NaN      NaN     NaN          NaN   \nMexico             NaN     NaN    NaN      NaN     NaN          NaN   \nGermany            NaN     NaN    NaN     0.90     NaN          NaN   \nThailand           NaN     NaN    NaN      NaN     NaN          NaN   \nUnited States      NaN     NaN    NaN      NaN     NaN          NaN   \n\n                Australia  New Zealand  Mexico  Germany  Thailand  \\\nSpain                 NaN          NaN     NaN      NaN       NaN   \nFrance                NaN          NaN     NaN      NaN       NaN   \nItaly                 NaN          NaN     NaN      NaN       NaN   \nGreece                NaN          NaN     NaN      NaN       NaN   \nPortugal              NaN          NaN     NaN      NaN       NaN   \nUnited Kingdom       0.90          NaN    0.90      NaN       NaN   \nNorway               0.75        0.875    0.75      NaN     0.875   \nBrazil                NaN          NaN     NaN      NaN       NaN   \nJapan                 NaN          NaN     NaN      NaN       NaN   \nBahamas               NaN          NaN     NaN      NaN       NaN   \nCanada               0.90          NaN    0.90      NaN       NaN   \nSwitzerland          0.90          NaN    0.90      NaN       NaN   \nAustralia             NaN          NaN     NaN      NaN       NaN   \nNew Zealand           NaN          NaN     NaN      NaN       NaN   \nMexico                NaN          NaN     NaN      NaN       NaN   \nGermany              0.90          NaN    0.90      NaN       NaN   \nThailand              NaN          NaN     NaN      NaN       NaN   \nUnited States         NaN          NaN     NaN      NaN       NaN   \n\n                United States  \nSpain                     NaN  \nFrance                    NaN  \nItaly                     NaN  \nGreece                    NaN  \nPortugal                  NaN  \nUnited Kingdom            NaN  \nNorway                  0.875  \nBrazil                    NaN  \nJapan                     NaN  \nBahamas                   NaN  \nCanada                    NaN  \nSwitzerland               NaN  \nAustralia                 NaN  \nNew Zealand               NaN  \nMexico                    NaN  \nGermany                   NaN  \nThailand                  NaN  \nUnited States             NaN  ",
      "text/html": "<div>\n<style scoped>\n    .dataframe tbody tr th:only-of-type {\n        vertical-align: middle;\n    }\n\n    .dataframe tbody tr th {\n        vertical-align: top;\n    }\n\n    .dataframe thead th {\n        text-align: right;\n    }\n</style>\n<table border=\"1\" class=\"dataframe\">\n  <thead>\n    <tr style=\"text-align: right;\">\n      <th></th>\n      <th>Spain</th>\n      <th>France</th>\n      <th>Italy</th>\n      <th>Greece</th>\n      <th>Portugal</th>\n      <th>United Kingdom</th>\n      <th>Norway</th>\n      <th>Brazil</th>\n      <th>Japan</th>\n      <th>Bahamas</th>\n      <th>Canada</th>\n      <th>Switzerland</th>\n      <th>Australia</th>\n      <th>New Zealand</th>\n      <th>Mexico</th>\n      <th>Germany</th>\n      <th>Thailand</th>\n      <th>United States</th>\n    </tr>\n  </thead>\n  <tbody>\n    <tr>\n      <th>Spain</th>\n      <td>NaN</td>\n      <td>NaN</td>\n      <td>NaN</td>\n      <td>NaN</td>\n      <td>NaN</td>\n      <td>NaN</td>\n      <td>NaN</td>\n      <td>NaN</td>\n      <td>NaN</td>\n      <td>NaN</td>\n      <td>NaN</td>\n      <td>NaN</td>\n      <td>NaN</td>\n      <td>NaN</td>\n      <td>NaN</td>\n      <td>NaN</td>\n      <td>NaN</td>\n      <td>NaN</td>\n    </tr>\n    <tr>\n      <th>France</th>\n      <td>NaN</td>\n      <td>NaN</td>\n      <td>NaN</td>\n      <td>NaN</td>\n      <td>NaN</td>\n      <td>NaN</td>\n      <td>NaN</td>\n      <td>NaN</td>\n      <td>NaN</td>\n      <td>NaN</td>\n      <td>NaN</td>\n      <td>NaN</td>\n      <td>NaN</td>\n      <td>NaN</td>\n      <td>NaN</td>\n      <td>NaN</td>\n      <td>NaN</td>\n      <td>NaN</td>\n    </tr>\n    <tr>\n      <th>Italy</th>\n      <td>NaN</td>\n      <td>NaN</td>\n      <td>NaN</td>\n      <td>NaN</td>\n      <td>NaN</td>\n      <td>NaN</td>\n      <td>NaN</td>\n      <td>NaN</td>\n      <td>NaN</td>\n      <td>NaN</td>\n      <td>NaN</td>\n      <td>NaN</td>\n      <td>NaN</td>\n      <td>NaN</td>\n      <td>NaN</td>\n      <td>NaN</td>\n      <td>NaN</td>\n      <td>NaN</td>\n    </tr>\n    <tr>\n      <th>Greece</th>\n      <td>NaN</td>\n      <td>NaN</td>\n      <td>NaN</td>\n      <td>NaN</td>\n      <td>NaN</td>\n      <td>NaN</td>\n      <td>NaN</td>\n      <td>NaN</td>\n      <td>NaN</td>\n      <td>NaN</td>\n      <td>NaN</td>\n      <td>NaN</td>\n      <td>NaN</td>\n      <td>NaN</td>\n      <td>NaN</td>\n      <td>NaN</td>\n      <td>NaN</td>\n      <td>NaN</td>\n    </tr>\n    <tr>\n      <th>Portugal</th>\n      <td>NaN</td>\n      <td>NaN</td>\n      <td>NaN</td>\n      <td>NaN</td>\n      <td>NaN</td>\n      <td>NaN</td>\n      <td>NaN</td>\n      <td>NaN</td>\n      <td>NaN</td>\n      <td>NaN</td>\n      <td>NaN</td>\n      <td>NaN</td>\n      <td>NaN</td>\n      <td>NaN</td>\n      <td>NaN</td>\n      <td>NaN</td>\n      <td>NaN</td>\n      <td>NaN</td>\n    </tr>\n    <tr>\n      <th>United Kingdom</th>\n      <td>0.90</td>\n      <td>NaN</td>\n      <td>0.90</td>\n      <td>0.90</td>\n      <td>NaN</td>\n      <td>NaN</td>\n      <td>NaN</td>\n      <td>NaN</td>\n      <td>NaN</td>\n      <td>0.90</td>\n      <td>NaN</td>\n      <td>NaN</td>\n      <td>0.90</td>\n      <td>NaN</td>\n      <td>0.90</td>\n      <td>NaN</td>\n      <td>NaN</td>\n      <td>NaN</td>\n    </tr>\n    <tr>\n      <th>Norway</th>\n      <td>0.75</td>\n      <td>0.875</td>\n      <td>0.75</td>\n      <td>0.75</td>\n      <td>0.875</td>\n      <td>NaN</td>\n      <td>NaN</td>\n      <td>0.875</td>\n      <td>0.875</td>\n      <td>0.75</td>\n      <td>NaN</td>\n      <td>NaN</td>\n      <td>0.75</td>\n      <td>0.875</td>\n      <td>0.75</td>\n      <td>NaN</td>\n      <td>0.875</td>\n      <td>0.875</td>\n    </tr>\n    <tr>\n      <th>Brazil</th>\n      <td>NaN</td>\n      <td>NaN</td>\n      <td>NaN</td>\n      <td>NaN</td>\n      <td>NaN</td>\n      <td>NaN</td>\n      <td>NaN</td>\n      <td>NaN</td>\n      <td>NaN</td>\n      <td>NaN</td>\n      <td>NaN</td>\n      <td>NaN</td>\n      <td>NaN</td>\n      <td>NaN</td>\n      <td>NaN</td>\n      <td>NaN</td>\n      <td>NaN</td>\n      <td>NaN</td>\n    </tr>\n    <tr>\n      <th>Japan</th>\n      <td>NaN</td>\n      <td>NaN</td>\n      <td>NaN</td>\n      <td>NaN</td>\n      <td>NaN</td>\n      <td>NaN</td>\n      <td>NaN</td>\n      <td>NaN</td>\n      <td>NaN</td>\n      <td>NaN</td>\n      <td>NaN</td>\n      <td>NaN</td>\n      <td>NaN</td>\n      <td>NaN</td>\n      <td>NaN</td>\n      <td>NaN</td>\n      <td>NaN</td>\n      <td>NaN</td>\n    </tr>\n    <tr>\n      <th>Bahamas</th>\n      <td>NaN</td>\n      <td>NaN</td>\n      <td>NaN</td>\n      <td>NaN</td>\n      <td>NaN</td>\n      <td>NaN</td>\n      <td>NaN</td>\n      <td>NaN</td>\n      <td>NaN</td>\n      <td>NaN</td>\n      <td>NaN</td>\n      <td>NaN</td>\n      <td>NaN</td>\n      <td>NaN</td>\n      <td>NaN</td>\n      <td>NaN</td>\n      <td>NaN</td>\n      <td>NaN</td>\n    </tr>\n    <tr>\n      <th>Canada</th>\n      <td>0.90</td>\n      <td>NaN</td>\n      <td>0.90</td>\n      <td>0.90</td>\n      <td>NaN</td>\n      <td>NaN</td>\n      <td>NaN</td>\n      <td>NaN</td>\n      <td>NaN</td>\n      <td>0.90</td>\n      <td>NaN</td>\n      <td>NaN</td>\n      <td>0.90</td>\n      <td>NaN</td>\n      <td>0.90</td>\n      <td>NaN</td>\n      <td>NaN</td>\n      <td>NaN</td>\n    </tr>\n    <tr>\n      <th>Switzerland</th>\n      <td>0.90</td>\n      <td>NaN</td>\n      <td>0.90</td>\n      <td>0.90</td>\n      <td>NaN</td>\n      <td>NaN</td>\n      <td>NaN</td>\n      <td>NaN</td>\n      <td>NaN</td>\n      <td>0.90</td>\n      <td>NaN</td>\n      <td>NaN</td>\n      <td>0.90</td>\n      <td>NaN</td>\n      <td>0.90</td>\n      <td>NaN</td>\n      <td>NaN</td>\n      <td>NaN</td>\n    </tr>\n    <tr>\n      <th>Australia</th>\n      <td>NaN</td>\n      <td>NaN</td>\n      <td>NaN</td>\n      <td>NaN</td>\n      <td>NaN</td>\n      <td>NaN</td>\n      <td>NaN</td>\n      <td>NaN</td>\n      <td>NaN</td>\n      <td>NaN</td>\n      <td>NaN</td>\n      <td>NaN</td>\n      <td>NaN</td>\n      <td>NaN</td>\n      <td>NaN</td>\n      <td>NaN</td>\n      <td>NaN</td>\n      <td>NaN</td>\n    </tr>\n    <tr>\n      <th>New Zealand</th>\n      <td>NaN</td>\n      <td>NaN</td>\n      <td>NaN</td>\n      <td>NaN</td>\n      <td>NaN</td>\n      <td>NaN</td>\n      <td>NaN</td>\n      <td>NaN</td>\n      <td>NaN</td>\n      <td>NaN</td>\n      <td>NaN</td>\n      <td>NaN</td>\n      <td>NaN</td>\n      <td>NaN</td>\n      <td>NaN</td>\n      <td>NaN</td>\n      <td>NaN</td>\n      <td>NaN</td>\n    </tr>\n    <tr>\n      <th>Mexico</th>\n      <td>NaN</td>\n      <td>NaN</td>\n      <td>NaN</td>\n      <td>NaN</td>\n      <td>NaN</td>\n      <td>NaN</td>\n      <td>NaN</td>\n      <td>NaN</td>\n      <td>NaN</td>\n      <td>NaN</td>\n      <td>NaN</td>\n      <td>NaN</td>\n      <td>NaN</td>\n      <td>NaN</td>\n      <td>NaN</td>\n      <td>NaN</td>\n      <td>NaN</td>\n      <td>NaN</td>\n    </tr>\n    <tr>\n      <th>Germany</th>\n      <td>0.90</td>\n      <td>NaN</td>\n      <td>0.90</td>\n      <td>0.90</td>\n      <td>NaN</td>\n      <td>NaN</td>\n      <td>NaN</td>\n      <td>NaN</td>\n      <td>NaN</td>\n      <td>0.90</td>\n      <td>NaN</td>\n      <td>NaN</td>\n      <td>0.90</td>\n      <td>NaN</td>\n      <td>0.90</td>\n      <td>NaN</td>\n      <td>NaN</td>\n      <td>NaN</td>\n    </tr>\n    <tr>\n      <th>Thailand</th>\n      <td>NaN</td>\n      <td>NaN</td>\n      <td>NaN</td>\n      <td>NaN</td>\n      <td>NaN</td>\n      <td>NaN</td>\n      <td>NaN</td>\n      <td>NaN</td>\n      <td>NaN</td>\n      <td>NaN</td>\n      <td>NaN</td>\n      <td>NaN</td>\n      <td>NaN</td>\n      <td>NaN</td>\n      <td>NaN</td>\n      <td>NaN</td>\n      <td>NaN</td>\n      <td>NaN</td>\n    </tr>\n    <tr>\n      <th>United States</th>\n      <td>NaN</td>\n      <td>NaN</td>\n      <td>NaN</td>\n      <td>NaN</td>\n      <td>NaN</td>\n      <td>NaN</td>\n      <td>NaN</td>\n      <td>NaN</td>\n      <td>NaN</td>\n      <td>NaN</td>\n      <td>NaN</td>\n      <td>NaN</td>\n      <td>NaN</td>\n      <td>NaN</td>\n      <td>NaN</td>\n      <td>NaN</td>\n      <td>NaN</td>\n      <td>NaN</td>\n    </tr>\n  </tbody>\n</table>\n</div>"
     },
     "execution_count": 21,
     "metadata": {},
     "output_type": "execute_result"
    }
   ],
   "source": [
    "non_discordance_d = non_discordance(discord, NonDiscordanceType.D, concordance)\n",
    "non_discordance_d_prof = (non_discordance(discord_prof[0], NonDiscordanceType.D, concordance_profiles[0]), non_discordance(discord_prof[1], NonDiscordanceType.D, concordance_profiles[1]))\n",
    "non_discordance_d[non_discordance_d != 1]"
   ],
   "metadata": {
    "collapsed": false
   }
  },
  {
   "cell_type": "code",
   "execution_count": 22,
   "outputs": [
    {
     "data": {
      "text/plain": "                   Spain    France     Italy    Greece  Portugal  \\\nSpain           1.000000  1.000000  1.000000  1.000000   1.00000   \nFrance          0.400000  1.000000  0.462500  0.525000   0.75000   \nItaly           0.750000  1.000000  1.000000  1.000000   0.75000   \nGreece          0.622814  0.904610  1.000000  1.000000   0.75000   \nPortugal        0.506840  0.893955  0.650000  0.650000   1.00000   \nUnited Kingdom  0.360000  0.650000  0.585000  0.585000   0.40000   \nNorway          0.412500  0.481250  0.412500  0.412500   0.48125   \nBrazil          0.000000  0.350000  0.000000  0.000000   0.35000   \nJapan           0.650000  1.000000  0.666667  0.666667   1.00000   \nBahamas         0.350000  0.350000  0.350000  0.350000   0.35000   \nCanada          0.360000  0.650000  0.555000  0.585000   0.40000   \nSwitzerland     0.495000  0.571429  0.514286  0.514286   0.55000   \nAustralia       0.750000  1.000000  1.000000  1.000000   0.75000   \nNew Zealand     0.400000  1.000000  0.650000  0.650000   0.75000   \nMexico          0.350000  0.600000  0.350000  0.350000   0.35000   \nGermany         0.495000  0.550000  0.495000  0.495000   0.42500   \nThailand        0.125000  0.600000  0.250000  0.250000   0.35000   \nUnited States   0.300000  0.900000  0.550000  0.550000   0.65000   \n\n                United Kingdom    Norway    Brazil     Japan   Bahamas  \\\nSpain                 0.779528  0.700000  1.000000  0.559186  1.000000   \nFrance                0.685267  0.450000  1.000000  0.494158  0.650000   \nItaly                 0.700000  0.450000  1.000000  0.450000  1.000000   \nGreece                0.700000  0.450000  1.000000  0.450000  1.000000   \nPortugal              0.700000  0.700000  1.000000  0.445833  0.666667   \nUnited Kingdom        1.000000  0.450000  0.700855  0.333333  0.618750   \nNorway                0.550000  1.000000  0.613248  0.262500  0.525641   \nBrazil                0.350000  0.350000  1.000000  0.350000  0.287500   \nJapan                 1.000000  0.700000  1.000000  1.000000  0.700855   \nBahamas               0.350000  0.350000  1.000000  0.350000  1.000000   \nCanada                1.000000  0.517562  0.700855  0.300000  0.630769   \nSwitzerland           0.904762  1.000000  0.700855  0.550000  0.630769   \nAustralia             1.000000  0.750000  1.000000  0.750000  1.000000   \nNew Zealand           1.000000  0.533170  1.000000  0.683333  0.687500   \nMexico                0.350000  0.450000  1.000000  0.350000  0.700000   \nGermany               0.900000  0.860968  0.700855  0.300000  0.630769   \nThailand              0.600000  0.575000  1.000000  0.350000  0.634921   \nUnited States         0.900000  0.383333  1.000000  0.650000  0.687500   \n\n                  Canada  Switzerland  Australia  New Zealand    Mexico  \\\nSpain           0.700000     0.450000   0.700000     0.700000  1.000000   \nFrance          0.450000     0.450000   0.100000     0.450000  0.687500   \nItaly           0.700000     0.450000   0.700000     0.700000  1.000000   \nGreece          0.700000     0.450000   0.700000     0.700000  1.000000   \nPortugal        0.700000     0.450000   0.350000     0.700000  0.700855   \nUnited Kingdom  0.937500     0.450000   0.417037     0.650000  0.618750   \nNorway          0.550000     0.400000   0.412500     0.481250  0.525641   \nBrazil          0.350000     0.350000   0.000000     0.350000  0.300000   \nJapan           0.984416     0.700000   0.429190     0.968831  0.700855   \nBahamas         0.350000     0.350000   0.350000     0.350000  0.650000   \nCanada          1.000000     0.502066   0.455269     0.650000  0.618750   \nSwitzerland     0.966667     1.000000   0.514286     0.571429  0.630769   \nAustralia       1.000000     0.734623   1.000000     1.000000  1.000000   \nNew Zealand     1.000000     0.517682   0.588049     1.000000  0.687500   \nMexico          0.350000     0.450000   0.350000     0.350000  1.000000   \nGermany         0.933333     0.595520   0.495000     0.550000  0.618750   \nThailand        0.666667     0.450000   0.250000     0.600000  0.650000   \nUnited States   0.696916     0.350000   0.250000     0.743799  0.657738   \n\n                 Germany  Thailand  United States  \nSpain           0.700000  1.000000       0.905512  \nFrance          0.450000  0.776786       0.873883  \nItaly           0.450000  0.937500       0.746702  \nGreece          0.450000  0.875000       0.700000  \nPortugal        0.700000  1.000000       0.700000  \nUnited Kingdom  0.703344  0.520089       0.650000  \nNorway          0.650000  0.601563       0.568750  \nBrazil          0.350000  0.350000       0.450000  \nJapan           0.890909  1.000000       1.000000  \nBahamas         0.350000  0.650000       0.450000  \nCanada          0.875000  0.687500       0.650000  \nSwitzerland     1.000000  0.687500       0.666667  \nAustralia       0.750000  1.000000       1.000000  \nNew Zealand     0.812500  1.000000       1.000000  \nMexico          0.450000  0.450000       0.512500  \nGermany         1.000000  0.687500       0.650000  \nThailand        0.700000  1.000000       0.700000  \nUnited States   0.478214  0.687500       1.000000  ",
      "text/html": "<div>\n<style scoped>\n    .dataframe tbody tr th:only-of-type {\n        vertical-align: middle;\n    }\n\n    .dataframe tbody tr th {\n        vertical-align: top;\n    }\n\n    .dataframe thead th {\n        text-align: right;\n    }\n</style>\n<table border=\"1\" class=\"dataframe\">\n  <thead>\n    <tr style=\"text-align: right;\">\n      <th></th>\n      <th>Spain</th>\n      <th>France</th>\n      <th>Italy</th>\n      <th>Greece</th>\n      <th>Portugal</th>\n      <th>United Kingdom</th>\n      <th>Norway</th>\n      <th>Brazil</th>\n      <th>Japan</th>\n      <th>Bahamas</th>\n      <th>Canada</th>\n      <th>Switzerland</th>\n      <th>Australia</th>\n      <th>New Zealand</th>\n      <th>Mexico</th>\n      <th>Germany</th>\n      <th>Thailand</th>\n      <th>United States</th>\n    </tr>\n  </thead>\n  <tbody>\n    <tr>\n      <th>Spain</th>\n      <td>1.000000</td>\n      <td>1.000000</td>\n      <td>1.000000</td>\n      <td>1.000000</td>\n      <td>1.00000</td>\n      <td>0.779528</td>\n      <td>0.700000</td>\n      <td>1.000000</td>\n      <td>0.559186</td>\n      <td>1.000000</td>\n      <td>0.700000</td>\n      <td>0.450000</td>\n      <td>0.700000</td>\n      <td>0.700000</td>\n      <td>1.000000</td>\n      <td>0.700000</td>\n      <td>1.000000</td>\n      <td>0.905512</td>\n    </tr>\n    <tr>\n      <th>France</th>\n      <td>0.400000</td>\n      <td>1.000000</td>\n      <td>0.462500</td>\n      <td>0.525000</td>\n      <td>0.75000</td>\n      <td>0.685267</td>\n      <td>0.450000</td>\n      <td>1.000000</td>\n      <td>0.494158</td>\n      <td>0.650000</td>\n      <td>0.450000</td>\n      <td>0.450000</td>\n      <td>0.100000</td>\n      <td>0.450000</td>\n      <td>0.687500</td>\n      <td>0.450000</td>\n      <td>0.776786</td>\n      <td>0.873883</td>\n    </tr>\n    <tr>\n      <th>Italy</th>\n      <td>0.750000</td>\n      <td>1.000000</td>\n      <td>1.000000</td>\n      <td>1.000000</td>\n      <td>0.75000</td>\n      <td>0.700000</td>\n      <td>0.450000</td>\n      <td>1.000000</td>\n      <td>0.450000</td>\n      <td>1.000000</td>\n      <td>0.700000</td>\n      <td>0.450000</td>\n      <td>0.700000</td>\n      <td>0.700000</td>\n      <td>1.000000</td>\n      <td>0.450000</td>\n      <td>0.937500</td>\n      <td>0.746702</td>\n    </tr>\n    <tr>\n      <th>Greece</th>\n      <td>0.622814</td>\n      <td>0.904610</td>\n      <td>1.000000</td>\n      <td>1.000000</td>\n      <td>0.75000</td>\n      <td>0.700000</td>\n      <td>0.450000</td>\n      <td>1.000000</td>\n      <td>0.450000</td>\n      <td>1.000000</td>\n      <td>0.700000</td>\n      <td>0.450000</td>\n      <td>0.700000</td>\n      <td>0.700000</td>\n      <td>1.000000</td>\n      <td>0.450000</td>\n      <td>0.875000</td>\n      <td>0.700000</td>\n    </tr>\n    <tr>\n      <th>Portugal</th>\n      <td>0.506840</td>\n      <td>0.893955</td>\n      <td>0.650000</td>\n      <td>0.650000</td>\n      <td>1.00000</td>\n      <td>0.700000</td>\n      <td>0.700000</td>\n      <td>1.000000</td>\n      <td>0.445833</td>\n      <td>0.666667</td>\n      <td>0.700000</td>\n      <td>0.450000</td>\n      <td>0.350000</td>\n      <td>0.700000</td>\n      <td>0.700855</td>\n      <td>0.700000</td>\n      <td>1.000000</td>\n      <td>0.700000</td>\n    </tr>\n    <tr>\n      <th>United Kingdom</th>\n      <td>0.360000</td>\n      <td>0.650000</td>\n      <td>0.585000</td>\n      <td>0.585000</td>\n      <td>0.40000</td>\n      <td>1.000000</td>\n      <td>0.450000</td>\n      <td>0.700855</td>\n      <td>0.333333</td>\n      <td>0.618750</td>\n      <td>0.937500</td>\n      <td>0.450000</td>\n      <td>0.417037</td>\n      <td>0.650000</td>\n      <td>0.618750</td>\n      <td>0.703344</td>\n      <td>0.520089</td>\n      <td>0.650000</td>\n    </tr>\n    <tr>\n      <th>Norway</th>\n      <td>0.412500</td>\n      <td>0.481250</td>\n      <td>0.412500</td>\n      <td>0.412500</td>\n      <td>0.48125</td>\n      <td>0.550000</td>\n      <td>1.000000</td>\n      <td>0.613248</td>\n      <td>0.262500</td>\n      <td>0.525641</td>\n      <td>0.550000</td>\n      <td>0.400000</td>\n      <td>0.412500</td>\n      <td>0.481250</td>\n      <td>0.525641</td>\n      <td>0.650000</td>\n      <td>0.601563</td>\n      <td>0.568750</td>\n    </tr>\n    <tr>\n      <th>Brazil</th>\n      <td>0.000000</td>\n      <td>0.350000</td>\n      <td>0.000000</td>\n      <td>0.000000</td>\n      <td>0.35000</td>\n      <td>0.350000</td>\n      <td>0.350000</td>\n      <td>1.000000</td>\n      <td>0.350000</td>\n      <td>0.287500</td>\n      <td>0.350000</td>\n      <td>0.350000</td>\n      <td>0.000000</td>\n      <td>0.350000</td>\n      <td>0.300000</td>\n      <td>0.350000</td>\n      <td>0.350000</td>\n      <td>0.450000</td>\n    </tr>\n    <tr>\n      <th>Japan</th>\n      <td>0.650000</td>\n      <td>1.000000</td>\n      <td>0.666667</td>\n      <td>0.666667</td>\n      <td>1.00000</td>\n      <td>1.000000</td>\n      <td>0.700000</td>\n      <td>1.000000</td>\n      <td>1.000000</td>\n      <td>0.700855</td>\n      <td>0.984416</td>\n      <td>0.700000</td>\n      <td>0.429190</td>\n      <td>0.968831</td>\n      <td>0.700855</td>\n      <td>0.890909</td>\n      <td>1.000000</td>\n      <td>1.000000</td>\n    </tr>\n    <tr>\n      <th>Bahamas</th>\n      <td>0.350000</td>\n      <td>0.350000</td>\n      <td>0.350000</td>\n      <td>0.350000</td>\n      <td>0.35000</td>\n      <td>0.350000</td>\n      <td>0.350000</td>\n      <td>1.000000</td>\n      <td>0.350000</td>\n      <td>1.000000</td>\n      <td>0.350000</td>\n      <td>0.350000</td>\n      <td>0.350000</td>\n      <td>0.350000</td>\n      <td>0.650000</td>\n      <td>0.350000</td>\n      <td>0.650000</td>\n      <td>0.450000</td>\n    </tr>\n    <tr>\n      <th>Canada</th>\n      <td>0.360000</td>\n      <td>0.650000</td>\n      <td>0.555000</td>\n      <td>0.585000</td>\n      <td>0.40000</td>\n      <td>1.000000</td>\n      <td>0.517562</td>\n      <td>0.700855</td>\n      <td>0.300000</td>\n      <td>0.630769</td>\n      <td>1.000000</td>\n      <td>0.502066</td>\n      <td>0.455269</td>\n      <td>0.650000</td>\n      <td>0.618750</td>\n      <td>0.875000</td>\n      <td>0.687500</td>\n      <td>0.650000</td>\n    </tr>\n    <tr>\n      <th>Switzerland</th>\n      <td>0.495000</td>\n      <td>0.571429</td>\n      <td>0.514286</td>\n      <td>0.514286</td>\n      <td>0.55000</td>\n      <td>0.904762</td>\n      <td>1.000000</td>\n      <td>0.700855</td>\n      <td>0.550000</td>\n      <td>0.630769</td>\n      <td>0.966667</td>\n      <td>1.000000</td>\n      <td>0.514286</td>\n      <td>0.571429</td>\n      <td>0.630769</td>\n      <td>1.000000</td>\n      <td>0.687500</td>\n      <td>0.666667</td>\n    </tr>\n    <tr>\n      <th>Australia</th>\n      <td>0.750000</td>\n      <td>1.000000</td>\n      <td>1.000000</td>\n      <td>1.000000</td>\n      <td>0.75000</td>\n      <td>1.000000</td>\n      <td>0.750000</td>\n      <td>1.000000</td>\n      <td>0.750000</td>\n      <td>1.000000</td>\n      <td>1.000000</td>\n      <td>0.734623</td>\n      <td>1.000000</td>\n      <td>1.000000</td>\n      <td>1.000000</td>\n      <td>0.750000</td>\n      <td>1.000000</td>\n      <td>1.000000</td>\n    </tr>\n    <tr>\n      <th>New Zealand</th>\n      <td>0.400000</td>\n      <td>1.000000</td>\n      <td>0.650000</td>\n      <td>0.650000</td>\n      <td>0.75000</td>\n      <td>1.000000</td>\n      <td>0.533170</td>\n      <td>1.000000</td>\n      <td>0.683333</td>\n      <td>0.687500</td>\n      <td>1.000000</td>\n      <td>0.517682</td>\n      <td>0.588049</td>\n      <td>1.000000</td>\n      <td>0.687500</td>\n      <td>0.812500</td>\n      <td>1.000000</td>\n      <td>1.000000</td>\n    </tr>\n    <tr>\n      <th>Mexico</th>\n      <td>0.350000</td>\n      <td>0.600000</td>\n      <td>0.350000</td>\n      <td>0.350000</td>\n      <td>0.35000</td>\n      <td>0.350000</td>\n      <td>0.450000</td>\n      <td>1.000000</td>\n      <td>0.350000</td>\n      <td>0.700000</td>\n      <td>0.350000</td>\n      <td>0.450000</td>\n      <td>0.350000</td>\n      <td>0.350000</td>\n      <td>1.000000</td>\n      <td>0.450000</td>\n      <td>0.450000</td>\n      <td>0.512500</td>\n    </tr>\n    <tr>\n      <th>Germany</th>\n      <td>0.495000</td>\n      <td>0.550000</td>\n      <td>0.495000</td>\n      <td>0.495000</td>\n      <td>0.42500</td>\n      <td>0.900000</td>\n      <td>0.860968</td>\n      <td>0.700855</td>\n      <td>0.300000</td>\n      <td>0.630769</td>\n      <td>0.933333</td>\n      <td>0.595520</td>\n      <td>0.495000</td>\n      <td>0.550000</td>\n      <td>0.618750</td>\n      <td>1.000000</td>\n      <td>0.687500</td>\n      <td>0.650000</td>\n    </tr>\n    <tr>\n      <th>Thailand</th>\n      <td>0.125000</td>\n      <td>0.600000</td>\n      <td>0.250000</td>\n      <td>0.250000</td>\n      <td>0.35000</td>\n      <td>0.600000</td>\n      <td>0.575000</td>\n      <td>1.000000</td>\n      <td>0.350000</td>\n      <td>0.634921</td>\n      <td>0.666667</td>\n      <td>0.450000</td>\n      <td>0.250000</td>\n      <td>0.600000</td>\n      <td>0.650000</td>\n      <td>0.700000</td>\n      <td>1.000000</td>\n      <td>0.700000</td>\n    </tr>\n    <tr>\n      <th>United States</th>\n      <td>0.300000</td>\n      <td>0.900000</td>\n      <td>0.550000</td>\n      <td>0.550000</td>\n      <td>0.65000</td>\n      <td>0.900000</td>\n      <td>0.383333</td>\n      <td>1.000000</td>\n      <td>0.650000</td>\n      <td>0.687500</td>\n      <td>0.696916</td>\n      <td>0.350000</td>\n      <td>0.250000</td>\n      <td>0.743799</td>\n      <td>0.657738</td>\n      <td>0.478214</td>\n      <td>0.687500</td>\n      <td>1.000000</td>\n    </tr>\n  </tbody>\n</table>\n</div>"
     },
     "execution_count": 22,
     "metadata": {},
     "output_type": "execute_result"
    }
   ],
   "source": [
    "credibility = credibility_comprehensive(concordance, non_discordance_d)\n",
    "credibility_prof = (credibility_comprehensive(concordance_profiles[0], non_discordance_d_prof[0]), \n",
    "               credibility_comprehensive(concordance_profiles[1], non_discordance_d_prof[1]))\n",
    "credibility\n"
   ],
   "metadata": {
    "collapsed": false
   }
  },
  {
   "cell_type": "code",
   "execution_count": 23,
   "outputs": [],
   "source": [
    "from mcda.electre.outranking.sorting import assign_tri_b_class\n",
    "from mcda.electre.outranking.crisp_outranking import crisp_outranking_cut"
   ],
   "metadata": {
    "collapsed": false
   }
  },
  {
   "cell_type": "code",
   "execution_count": 24,
   "outputs": [],
   "source": [
    "crisp_table = (crisp_outranking_cut(credibility_prof[0], 0.7), crisp_outranking_cut(credibility_prof[1], 0.7))"
   ],
   "metadata": {
    "collapsed": false
   }
  },
  {
   "cell_type": "code",
   "execution_count": 25,
   "outputs": [
    {
     "data": {
      "text/plain": "                United States  Thailand  Greece\nSpain                    True      True    True\nFrance                   True      True   False\nItaly                    True      True    True\nPortugal                 True      True   False\nUnited Kingdom          False     False   False\nNorway                  False     False   False\nBrazil                  False     False   False\nJapan                    True      True   False\nBahamas                 False     False   False\nCanada                  False     False   False\nSwitzerland             False     False   False\nAustralia                True      True    True\nNew Zealand              True      True   False\nMexico                  False     False   False\nGermany                 False     False   False",
      "text/html": "<div>\n<style scoped>\n    .dataframe tbody tr th:only-of-type {\n        vertical-align: middle;\n    }\n\n    .dataframe tbody tr th {\n        vertical-align: top;\n    }\n\n    .dataframe thead th {\n        text-align: right;\n    }\n</style>\n<table border=\"1\" class=\"dataframe\">\n  <thead>\n    <tr style=\"text-align: right;\">\n      <th></th>\n      <th>United States</th>\n      <th>Thailand</th>\n      <th>Greece</th>\n    </tr>\n  </thead>\n  <tbody>\n    <tr>\n      <th>Spain</th>\n      <td>True</td>\n      <td>True</td>\n      <td>True</td>\n    </tr>\n    <tr>\n      <th>France</th>\n      <td>True</td>\n      <td>True</td>\n      <td>False</td>\n    </tr>\n    <tr>\n      <th>Italy</th>\n      <td>True</td>\n      <td>True</td>\n      <td>True</td>\n    </tr>\n    <tr>\n      <th>Portugal</th>\n      <td>True</td>\n      <td>True</td>\n      <td>False</td>\n    </tr>\n    <tr>\n      <th>United Kingdom</th>\n      <td>False</td>\n      <td>False</td>\n      <td>False</td>\n    </tr>\n    <tr>\n      <th>Norway</th>\n      <td>False</td>\n      <td>False</td>\n      <td>False</td>\n    </tr>\n    <tr>\n      <th>Brazil</th>\n      <td>False</td>\n      <td>False</td>\n      <td>False</td>\n    </tr>\n    <tr>\n      <th>Japan</th>\n      <td>True</td>\n      <td>True</td>\n      <td>False</td>\n    </tr>\n    <tr>\n      <th>Bahamas</th>\n      <td>False</td>\n      <td>False</td>\n      <td>False</td>\n    </tr>\n    <tr>\n      <th>Canada</th>\n      <td>False</td>\n      <td>False</td>\n      <td>False</td>\n    </tr>\n    <tr>\n      <th>Switzerland</th>\n      <td>False</td>\n      <td>False</td>\n      <td>False</td>\n    </tr>\n    <tr>\n      <th>Australia</th>\n      <td>True</td>\n      <td>True</td>\n      <td>True</td>\n    </tr>\n    <tr>\n      <th>New Zealand</th>\n      <td>True</td>\n      <td>True</td>\n      <td>False</td>\n    </tr>\n    <tr>\n      <th>Mexico</th>\n      <td>False</td>\n      <td>False</td>\n      <td>False</td>\n    </tr>\n    <tr>\n      <th>Germany</th>\n      <td>False</td>\n      <td>False</td>\n      <td>False</td>\n    </tr>\n  </tbody>\n</table>\n</div>"
     },
     "execution_count": 25,
     "metadata": {},
     "output_type": "execute_result"
    }
   ],
   "source": [
    "crisp_table[0]"
   ],
   "metadata": {
    "collapsed": false
   }
  },
  {
   "cell_type": "code",
   "execution_count": 26,
   "outputs": [
    {
     "data": {
      "text/plain": "               Spain  France  Italy  Portugal  United Kingdom  Norway  Brazil  \\\nUnited States  False    True  False     False            True   False    True   \nThailand       False   False  False     False           False   False    True   \nGreece         False    True   True      True            True   False    True   \n\n               Japan  Bahamas  Canada  Switzerland  Australia  New Zealand  \\\nUnited States  False    False   False        False      False         True   \nThailand       False    False   False        False      False        False   \nGreece         False     True    True        False       True         True   \n\n               Mexico  Germany  \nUnited States   False    False  \nThailand        False     True  \nGreece           True    False  ",
      "text/html": "<div>\n<style scoped>\n    .dataframe tbody tr th:only-of-type {\n        vertical-align: middle;\n    }\n\n    .dataframe tbody tr th {\n        vertical-align: top;\n    }\n\n    .dataframe thead th {\n        text-align: right;\n    }\n</style>\n<table border=\"1\" class=\"dataframe\">\n  <thead>\n    <tr style=\"text-align: right;\">\n      <th></th>\n      <th>Spain</th>\n      <th>France</th>\n      <th>Italy</th>\n      <th>Portugal</th>\n      <th>United Kingdom</th>\n      <th>Norway</th>\n      <th>Brazil</th>\n      <th>Japan</th>\n      <th>Bahamas</th>\n      <th>Canada</th>\n      <th>Switzerland</th>\n      <th>Australia</th>\n      <th>New Zealand</th>\n      <th>Mexico</th>\n      <th>Germany</th>\n    </tr>\n  </thead>\n  <tbody>\n    <tr>\n      <th>United States</th>\n      <td>False</td>\n      <td>True</td>\n      <td>False</td>\n      <td>False</td>\n      <td>True</td>\n      <td>False</td>\n      <td>True</td>\n      <td>False</td>\n      <td>False</td>\n      <td>False</td>\n      <td>False</td>\n      <td>False</td>\n      <td>True</td>\n      <td>False</td>\n      <td>False</td>\n    </tr>\n    <tr>\n      <th>Thailand</th>\n      <td>False</td>\n      <td>False</td>\n      <td>False</td>\n      <td>False</td>\n      <td>False</td>\n      <td>False</td>\n      <td>True</td>\n      <td>False</td>\n      <td>False</td>\n      <td>False</td>\n      <td>False</td>\n      <td>False</td>\n      <td>False</td>\n      <td>False</td>\n      <td>True</td>\n    </tr>\n    <tr>\n      <th>Greece</th>\n      <td>False</td>\n      <td>True</td>\n      <td>True</td>\n      <td>True</td>\n      <td>True</td>\n      <td>False</td>\n      <td>True</td>\n      <td>False</td>\n      <td>True</td>\n      <td>True</td>\n      <td>False</td>\n      <td>True</td>\n      <td>True</td>\n      <td>True</td>\n      <td>False</td>\n    </tr>\n  </tbody>\n</table>\n</div>"
     },
     "execution_count": 26,
     "metadata": {},
     "output_type": "execute_result"
    }
   ],
   "source": [
    "crisp_table[1]"
   ],
   "metadata": {
    "collapsed": false
   }
  },
  {
   "cell_type": "code",
   "execution_count": 27,
   "outputs": [],
   "source": [
    "classes_tri_b = pd.Series([\"Thailand\", \"United States\", \"Greece\", None],\n",
    "                                index=[\"Not really\", \"Might consider\", \"Better than USA\", \"Paradise\"])"
   ],
   "metadata": {
    "collapsed": false
   }
  },
  {
   "cell_type": "code",
   "execution_count": 29,
   "outputs": [
    {
     "data": {
      "text/plain": "Spain                    (Better than USA, Paradise)\nFrance            (Better than USA, Better than USA)\nItaly                    (Better than USA, Paradise)\nPortugal          (Better than USA, Better than USA)\nUnited Kingdom          (Not really, Might consider)\nNorway                        (Not really, Paradise)\nBrazil                      (Not really, Not really)\nJapan                    (Better than USA, Paradise)\nBahamas                (Not really, Better than USA)\nCanada                 (Not really, Better than USA)\nSwitzerland                   (Not really, Paradise)\nAustralia                (Better than USA, Paradise)\nNew Zealand       (Better than USA, Better than USA)\nMexico                 (Not really, Better than USA)\nGermany                     (Not really, Not really)\ndtype: object"
     },
     "execution_count": 29,
     "metadata": {},
     "output_type": "execute_result"
    }
   ],
   "source": [
    "assign_tri_b_class(crisp_table[0], crisp_table[1], classes_tri_b)\n"
   ],
   "metadata": {
    "collapsed": false
   }
  }
 ],
 "metadata": {
  "kernelspec": {
   "display_name": "Python 3",
   "language": "python",
   "name": "python3"
  },
  "language_info": {
   "codemirror_mode": {
    "name": "ipython",
    "version": 2
   },
   "file_extension": ".py",
   "mimetype": "text/x-python",
   "name": "python",
   "nbconvert_exporter": "python",
   "pygments_lexer": "ipython2",
   "version": "2.7.6"
  },
  "pycharm": {
   "stem_cell": {
    "cell_type": "raw",
    "source": [],
    "metadata": {
     "collapsed": false
    }
   }
  }
 },
 "nbformat": 4,
 "nbformat_minor": 0
}
