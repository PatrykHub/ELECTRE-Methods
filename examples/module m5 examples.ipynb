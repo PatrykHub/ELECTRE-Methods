{
 "cells": [
  {
   "cell_type": "code",
   "execution_count": 1,
   "metadata": {},
   "outputs": [],
   "source": [
    "import sys\n",
    "import os\n",
    "sys.path.append(os.path.abspath('../'))\n",
    "from mcda.electre.discordance import *\n",
    "from mcda.core.scales import QuantitativeScale, PreferenceDirection\n",
    "from mcda.core.functions import Threshold"
   ]
  },
  {
   "cell_type": "code",
   "execution_count": 2,
   "metadata": {},
   "outputs": [],
   "source": [
    "fiat   = [100, 1000, 6.0]\n",
    "vwPolo = [150, 5000, 5.7]\n",
    "nissan   = [110, 4000, 6.8]\n",
    "toyota = [170, 3000, 5.5]\n",
    "suzuki   = [140, 2000, 7.8]\n",
    "ford = [120, 6000, 8.0]\n",
    "cars = pd.DataFrame([fiat, vwPolo, nissan,  toyota,  suzuki,  ford], index=['fiat', 'vwPolo' , 'nissan' , 'toyota' , 'suzuki', 'ford' ])"
   ]
  },
  {
   "cell_type": "code",
   "execution_count": 3,
   "metadata": {},
   "outputs": [],
   "source": [
    "scales  = pd.Series([QuantitativeScale(100,   500),\n",
    "           QuantitativeScale(1000, 6000, PreferenceDirection.MIN), \n",
    "           QuantitativeScale(0.0, 15.0, PreferenceDirection.MIN)])\n",
    "weights = pd.Series([2, 3, 5])"
   ]
  },
  {
   "cell_type": "code",
   "execution_count": 6,
   "metadata": {},
   "outputs": [],
   "source": [
    "preference = pd.Series([\n",
    "    Threshold(0.3, 20),\n",
    "    Threshold(0.4, 500),\n",
    "    Threshold(0.1, 0.7)\n",
    "])\n",
    "veto = pd.Series([\n",
    "    Threshold(0.5, 40), \n",
    "    Threshold(0.6, 700), \n",
    "    Threshold(0.3, 4)\n",
    "    ])"
   ]
  },
  {
   "cell_type": "code",
   "execution_count": 7,
   "metadata": {},
   "outputs": [
    {
     "name": "stdout",
     "output_type": "stream",
     "text": [
      "0\n",
      "0\n",
      "0\n",
      "1\n"
     ]
    }
   ],
   "source": [
    "for i in range(2):\n",
    "    print(discordance_marginal(\n",
    "        fiat[i], vwPolo[i], scales[i], preference[i], veto[i], None\n",
    "    ))\n",
    "for i in range(2):\n",
    "    print(discordance_marginal(\n",
    "        vwPolo[i], fiat[i], scales[i], preference[i], veto[i], None\n",
    "    ))"
   ]
  },
  {
   "cell_type": "code",
   "execution_count": 12,
   "metadata": {},
   "outputs": [
    {
     "name": "stdout",
     "output_type": "stream",
     "text": [
      "0.0\n",
      "0.3\n"
     ]
    }
   ],
   "source": [
    "print(discordance_comprehensive(cars.loc[\"fiat\"], cars.loc[\"vwPolo\"], scales, weights, preference, veto, None))\n",
    "print(discordance_comprehensive(cars.loc[\"vwPolo\"], cars.loc[\"fiat\"], scales, weights, preference, veto, None))"
   ]
  },
  {
   "cell_type": "code",
   "execution_count": 13,
   "metadata": {},
   "outputs": [
    {
     "name": "stdout",
     "output_type": "stream",
     "text": [
      "            fiat    vwPolo  nissan    toyota    suzuki  ford\n",
      "fiat    0.000000  0.000000     0.0  0.100000  0.000000   0.0\n",
      "vwPolo  0.300000  0.000000     0.0  0.000000  0.175000   0.0\n",
      "nissan  0.030000  0.000000     0.0  0.166667  0.000000   0.0\n",
      "toyota  0.187500  0.000000     0.0  0.000000  0.000000   0.0\n",
      "suzuki  0.467078  0.436214     0.0  0.415638  0.000000   0.0\n",
      "ford    0.748980  0.418367     0.0  0.676531  0.064286   0.0\n"
     ]
    }
   ],
   "source": [
    "print(discordance(\n",
    "    cars, scales, weights, preference, veto, None\n",
    "))"
   ]
  },
  {
   "cell_type": "code",
   "execution_count": 15,
   "metadata": {},
   "outputs": [],
   "source": [
    "counter_veto_thresholds = pd.Series([\n",
    "    Threshold(0, 100), \n",
    "    Threshold(0, 1000),\n",
    "    Threshold(0, 5)\n",
    "])"
   ]
  },
  {
   "cell_type": "code",
   "execution_count": 16,
   "metadata": {},
   "outputs": [
    {
     "name": "stdout",
     "output_type": "stream",
     "text": [
      "False\n",
      "False\n",
      "False\n",
      "True\n"
     ]
    }
   ],
   "source": [
    "for i in range(2):\n",
    "    print(counter_veto_marginal(\n",
    "        fiat[i], vwPolo[i], scales[i], counter_veto_thresholds[i]\n",
    "    ))\n",
    "for i in range(2):\n",
    "    print(counter_veto_marginal(\n",
    "        vwPolo[i], fiat[i], scales[i], counter_veto_thresholds[i]\n",
    "    ))"
   ]
  },
  {
   "cell_type": "code",
   "execution_count": 18,
   "metadata": {},
   "outputs": [
    {
     "name": "stdout",
     "output_type": "stream",
     "text": [
      "0    False\n",
      "1    False\n",
      "2    False\n",
      "dtype: bool\n",
      "0    False\n",
      "1     True\n",
      "2    False\n",
      "dtype: bool\n"
     ]
    }
   ],
   "source": [
    "print(counter_veto_pair(cars.loc[\"fiat\"], cars.loc[\"vwPolo\"], scales, counter_veto_thresholds))\n",
    "print(counter_veto_pair(cars.loc[\"vwPolo\"], cars.loc[\"fiat\"], scales, counter_veto_thresholds))"
   ]
  },
  {
   "cell_type": "code",
   "execution_count": 19,
   "metadata": {},
   "outputs": [
    {
     "name": "stdout",
     "output_type": "stream",
     "text": [
      "            0      1      2\n",
      "fiat    False   True  False\n",
      "vwPolo  False  False  False\n",
      "nissan  False  False  False\n",
      "toyota  False   True  False\n",
      "suzuki  False   True  False\n",
      "ford    False  False  False\n"
     ]
    }
   ],
   "source": [
    "print(counter_veto(\n",
    "    cars.loc[\"vwPolo\"], cars, scales, counter_veto_thresholds\n",
    "))"
   ]
  },
  {
   "cell_type": "code",
   "execution_count": 20,
   "metadata": {},
   "outputs": [
    {
     "name": "stdout",
     "output_type": "stream",
     "text": [
      "        fiat  vwPolo  nissan  toyota  suzuki  ford\n",
      "fiat       0       0       0       0       0     0\n",
      "vwPolo     1       0       0       1       1     0\n",
      "nissan     1       0       0       0       1     0\n",
      "toyota     1       0       0       0       0     0\n",
      "suzuki     0       0       0       0       0     0\n",
      "ford       1       0       1       1       1     0\n"
     ]
    }
   ],
   "source": [
    "print(counter_veto_count(\n",
    "    cars, scales, counter_veto_thresholds\n",
    "))"
   ]
  }
 ],
 "metadata": {
  "kernelspec": {
   "display_name": "Python 3.10.4 64-bit",
   "language": "python",
   "name": "python3"
  },
  "language_info": {
   "codemirror_mode": {
    "name": "ipython",
    "version": 3
   },
   "file_extension": ".py",
   "mimetype": "text/x-python",
   "name": "python",
   "nbconvert_exporter": "python",
   "pygments_lexer": "ipython3",
   "version": "3.10.4"
  },
  "orig_nbformat": 4,
  "vscode": {
   "interpreter": {
    "hash": "1dd0381d1fc2fb15dda0c9601b2866ce5a466e54b3f253773e8ed097d13694fa"
   }
  }
 },
 "nbformat": 4,
 "nbformat_minor": 2
}
