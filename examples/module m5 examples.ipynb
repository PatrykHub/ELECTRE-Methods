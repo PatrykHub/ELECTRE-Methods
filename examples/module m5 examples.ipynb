{
 "cells": [
  {
   "cell_type": "code",
   "execution_count": 12,
   "metadata": {},
   "outputs": [],
   "source": [
    "import sys\n",
    "import os\n",
    "sys.path.append(os.path.abspath('../'))\n",
    "from mcda.electre.discordance import *\n",
    "from mcda.core.scales import QuantitativeScale, PreferenceDirection\n",
    "from mcda.core.functions import Threshold"
   ]
  },
  {
   "cell_type": "code",
   "execution_count": 13,
   "metadata": {},
   "outputs": [],
   "source": [
    "fiat   = [100, 1000]\n",
    "vwPolo = [150, 5000]"
   ]
  },
  {
   "cell_type": "code",
   "execution_count": 14,
   "metadata": {},
   "outputs": [],
   "source": [
    "scales  = [QuantitativeScale(100,   500),\n",
    "           QuantitativeScale(1000, 6000, PreferenceDirection.MIN)]\n",
    "preference = [Threshold(0.3, 20), Threshold(0.4, 500)]\n",
    "veto = [Threshold(0, 100), Threshold(0, 3500)]"
   ]
  },
  {
   "cell_type": "code",
   "execution_count": 15,
   "metadata": {},
   "outputs": [
    {
     "name": "stdout",
     "output_type": "stream",
     "text": [
      "0\n",
      "0\n",
      "0\n",
      "1\n"
     ]
    }
   ],
   "source": [
    "for i in range(2):\n",
    "    print(discordance_marginal(\n",
    "        fiat[i], vwPolo[i], scales[i], preference[i], veto[i], None\n",
    "    ))\n",
    "for i in range(2):\n",
    "    print(discordance_marginal(\n",
    "        vwPolo[i], fiat[i], scales[i], preference[i], veto[i], None\n",
    "    ))"
   ]
  },
  {
   "cell_type": "code",
   "execution_count": 16,
   "metadata": {},
   "outputs": [
    {
     "name": "stdout",
     "output_type": "stream",
     "text": [
      "[0, 0]\n",
      "[0, 1]\n"
     ]
    }
   ],
   "source": [
    "print(discordance_pair(fiat, vwPolo, scales, preference, veto, None))\n",
    "print(discordance_pair(vwPolo, fiat, scales, preference, veto, None))"
   ]
  },
  {
   "cell_type": "code",
   "execution_count": 17,
   "metadata": {},
   "outputs": [
    {
     "name": "stdout",
     "output_type": "stream",
     "text": [
      "[[0, 1], [0, 0]]\n"
     ]
    }
   ],
   "source": [
    "print(discordance(\n",
    "    vwPolo, [fiat, vwPolo], scales, preference, veto, None\n",
    "))"
   ]
  },
  {
   "cell_type": "code",
   "execution_count": 18,
   "metadata": {},
   "outputs": [],
   "source": [
    "counter_veto_thresholds = [Threshold(0, 100), Threshold(0, 1000)]"
   ]
  },
  {
   "cell_type": "code",
   "execution_count": 19,
   "metadata": {},
   "outputs": [
    {
     "name": "stdout",
     "output_type": "stream",
     "text": [
      "False\n",
      "False\n",
      "False\n",
      "True\n"
     ]
    }
   ],
   "source": [
    "for i in range(2):\n",
    "    print(counter_veto_marginal(\n",
    "        fiat[i], vwPolo[i], scales[i], counter_veto_thresholds[i]\n",
    "    ))\n",
    "for i in range(2):\n",
    "    print(counter_veto_marginal(\n",
    "        vwPolo[i], fiat[i], scales[i], counter_veto_thresholds[i]\n",
    "    ))"
   ]
  },
  {
   "cell_type": "code",
   "execution_count": 20,
   "metadata": {},
   "outputs": [
    {
     "name": "stdout",
     "output_type": "stream",
     "text": [
      "[False, False]\n",
      "[False, True]\n"
     ]
    }
   ],
   "source": [
    "print(counter_veto_pair(fiat, vwPolo, scales, counter_veto_thresholds))\n",
    "print(counter_veto_pair(vwPolo, fiat, scales, counter_veto_thresholds))"
   ]
  },
  {
   "cell_type": "code",
   "execution_count": 21,
   "metadata": {},
   "outputs": [
    {
     "name": "stdout",
     "output_type": "stream",
     "text": [
      "[[False, True], [False, False]]\n"
     ]
    }
   ],
   "source": [
    "print(counter_veto(\n",
    "    vwPolo, [fiat, vwPolo], scales, counter_veto_thresholds\n",
    "))"
   ]
  },
  {
   "cell_type": "code",
   "execution_count": 22,
   "metadata": {},
   "outputs": [
    {
     "name": "stdout",
     "output_type": "stream",
     "text": [
      "[[0, 0], [1, 0]]\n"
     ]
    }
   ],
   "source": [
    "print(counter_veto_count(\n",
    "    [fiat, vwPolo], scales, counter_veto_thresholds\n",
    "))"
   ]
  }
 ],
 "metadata": {
  "kernelspec": {
   "display_name": "Python 3.10.4 ('.venv': venv)",
   "language": "python",
   "name": "python3"
  },
  "language_info": {
   "codemirror_mode": {
    "name": "ipython",
    "version": 3
   },
   "file_extension": ".py",
   "mimetype": "text/x-python",
   "name": "python",
   "nbconvert_exporter": "python",
   "pygments_lexer": "ipython3",
   "version": "3.10.4"
  },
  "orig_nbformat": 4,
  "vscode": {
   "interpreter": {
    "hash": "990a679a28511c2dd3bbdaa326aa82577d88b3ae5d494cce7c77815e31c08261"
   }
  }
 },
 "nbformat": 4,
 "nbformat_minor": 2
}
