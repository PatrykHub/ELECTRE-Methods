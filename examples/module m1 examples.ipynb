{
 "cells": [
  {
   "cell_type": "code",
   "execution_count": 1,
   "metadata": {
    "collapsed": true,
    "pycharm": {
     "name": "#%%\n"
    }
   },
   "outputs": [],
   "source": [
    "import sys\n",
    "import os\n",
    "sys.path.append(os.path.abspath('../'))\n",
    "from mcda.electre.concordance import *\n",
    "from mcda.core.scales import QuantitativeScale, PreferenceDirection"
   ]
  },
  {
   "cell_type": "code",
   "execution_count": 8,
   "metadata": {
    "collapsed": false,
    "pycharm": {
     "name": "#%%\n"
    }
   },
   "outputs": [],
   "source": [
    "fiat   = [100, 1000, 6.0]\n",
    "vwPolo = [150, 5000, 5.7]\n",
    "nissan   = [110, 4000, 6.8]\n",
    "toyota = [170, 3000, 5.5]\n",
    "suzuki   = [140, 2000, 7.8]\n",
    "ford = [120, 6000, 8.0]\n",
    "cars = pd.DataFrame([fiat, vwPolo, nissan,  toyota,  suzuki,  ford], index=['fiat', 'vwPolo' , 'nissan' , 'toyota' , 'suzuki', 'ford' ])\n",
    "\n",
    "profile1   = [113, 1200, 7.0]\n",
    "profile2 = [180, 3500, 6.7]\n",
    "profile3   = [199, 3400, 8.8]\n",
    "profiles = pd.DataFrame([profile1, profile2, profile3], index=['profile1', 'profile2', 'profile3'])"
   ]
  },
  {
   "cell_type": "code",
   "execution_count": 3,
   "metadata": {
    "collapsed": false,
    "pycharm": {
     "name": "#%%\n"
    }
   },
   "outputs": [],
   "source": [
    "scales  = pd.Series([QuantitativeScale(100,   500),\n",
    "           QuantitativeScale(1000, 6000, PreferenceDirection.MIN), \n",
    "           QuantitativeScale(0.0, 15.0, PreferenceDirection.MIN)])\n",
    "weights = pd.Series([2, 3, 5])"
   ]
  },
  {
   "cell_type": "code",
   "execution_count": 4,
   "metadata": {
    "collapsed": false,
    "pycharm": {
     "name": "#%%\n"
    }
   },
   "outputs": [],
   "source": [
    "indifference = pd.Series([\n",
    "    Threshold(0.1, 10),\n",
    "    Threshold(0, 500),\n",
    "    Threshold(0, 0.1)\n",
    "])\n",
    "preference = pd.Series([\n",
    "    Threshold(0.3, 20),\n",
    "    Threshold(0.4, 500),\n",
    "    Threshold(0.1, 0.7)\n",
    "])"
   ]
  },
  {
   "cell_type": "code",
   "execution_count": 5,
   "metadata": {
    "collapsed": false,
    "pycharm": {
     "name": "#%%\n"
    }
   },
   "outputs": [
    {
     "name": "stdout",
     "output_type": "stream",
     "text": [
      "0.0\n",
      "1.0\n",
      "1.0\n",
      "0.0\n"
     ]
    }
   ],
   "source": [
    "for i in range(2):\n",
    "    print(concordance_marginal(\n",
    "        fiat[i], vwPolo[i], scales[i], indifference[i], preference[i]\n",
    "    ))\n",
    "for i in range(2):\n",
    "    print(concordance_marginal(\n",
    "        vwPolo[i], fiat[i], scales[i], indifference[i], preference[i]\n",
    "    ))"
   ]
  },
  {
   "cell_type": "code",
   "execution_count": 7,
   "metadata": {
    "collapsed": false,
    "pycharm": {
     "name": "#%%\n"
    }
   },
   "outputs": [
    {
     "name": "stdout",
     "output_type": "stream",
     "text": [
      "            fiat    vwPolo    nissan    toyota    suzuki  ford\n",
      "fiat    1.000000  0.716667  1.000000  0.633333  0.866667   1.0\n",
      "vwPolo  0.700000  1.000000  0.925000  0.732265  0.700000   1.0\n",
      "nissan  0.426563  0.490625  1.000000  0.237500  0.662500   1.0\n",
      "toyota  0.700000  1.000000  1.000000  1.000000  0.875000   1.0\n",
      "suzuki  0.312500  0.500000  0.673913  0.468421  1.000000   1.0\n",
      "ford    0.200000  0.390441  0.419643  0.035294  0.664286   1.0\n"
     ]
    }
   ],
   "source": [
    "cr = concordance(\n",
    "    cars, scales, weights, indifference, preference\n",
    ")\n",
    "\n",
    "print(concordance(\n",
    "    cars, scales, weights, indifference, preference\n",
    "))\n"
   ]
  },
  {
   "cell_type": "code",
   "execution_count": 10,
   "metadata": {
    "collapsed": false,
    "pycharm": {
     "name": "#%%\n"
    }
   },
   "outputs": [
    {
     "name": "stdout",
     "output_type": "stream",
     "text": [
      "        profile1  profile2  profile3\n",
      "fiat    1.000000  0.800000  0.800000\n",
      "vwPolo  0.700000  0.825000  0.715000\n",
      "nissan  0.700000  0.800000  0.781250\n",
      "toyota  0.700000  1.000000  0.990909\n",
      "suzuki  0.633877  0.553471  0.815789\n",
      "ford    0.378571  0.121429  0.537500\n"
     ]
    }
   ],
   "source": [
    "print(concordance(\n",
    "    cars, scales, weights, indifference,\n",
    "    preference, profiles_perform=profiles))\n",
    "\n"
   ]
  },
  {
   "cell_type": "code",
   "execution_count": null,
   "metadata": {
    "collapsed": false,
    "pycharm": {
     "name": "#%%\n"
    }
   },
   "outputs": [],
   "source": []
  }
 ],
 "metadata": {
  "kernelspec": {
   "display_name": "Python 3.10.4 64-bit",
   "language": "python",
   "name": "python3"
  },
  "language_info": {
   "codemirror_mode": {
    "name": "ipython",
    "version": 3
   },
   "file_extension": ".py",
   "mimetype": "text/x-python",
   "name": "python",
   "nbconvert_exporter": "python",
   "pygments_lexer": "ipython3",
   "version": "3.10.4"
  },
  "vscode": {
   "interpreter": {
    "hash": "1dd0381d1fc2fb15dda0c9601b2866ce5a466e54b3f253773e8ed097d13694fa"
   }
  }
 },
 "nbformat": 4,
 "nbformat_minor": 0
}
