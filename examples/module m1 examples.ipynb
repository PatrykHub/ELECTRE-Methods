{
 "cells": [
  {
   "cell_type": "code",
   "execution_count": 1,
   "metadata": {
    "collapsed": true,
    "pycharm": {
     "name": "#%%\n"
    }
   },
   "outputs": [],
   "source": [
    "from concordance import *\n",
    "from core.scales import QuantitativeScale, PreferenceDirection"
   ]
  },
  {
   "cell_type": "code",
   "execution_count": 2,
   "outputs": [],
   "source": [
    "fiat   = [100, 3500]\n",
    "vwPolo = [150, 5000]"
   ],
   "metadata": {
    "collapsed": false,
    "pycharm": {
     "name": "#%%\n"
    }
   }
  },
  {
   "cell_type": "code",
   "execution_count": 3,
   "outputs": [],
   "source": [
    "scales  = [QuantitativeScale(100,   500),\n",
    "           QuantitativeScale(1500, 6000, PreferenceDirection.MIN)]\n",
    "weights = [2, 3]"
   ],
   "metadata": {
    "collapsed": false,
    "pycharm": {
     "name": "#%%\n"
    }
   }
  },
  {
   "cell_type": "code",
   "execution_count": 4,
   "outputs": [],
   "source": [
    "indifference = [\n",
    "    [0.1, 10],\n",
    "    [0, 500]\n",
    "]\n",
    "preference = [\n",
    "    [0.3, 20],\n",
    "    [0.4, 500]\n",
    "]"
   ],
   "metadata": {
    "collapsed": false,
    "pycharm": {
     "name": "#%%\n"
    }
   }
  },
  {
   "cell_type": "code",
   "execution_count": 5,
   "outputs": [
    {
     "name": "stdout",
     "output_type": "stream",
     "text": [
      "0.0\n",
      "1\n",
      "1\n",
      "0.5\n"
     ]
    }
   ],
   "source": [
    "for i in range(2):\n",
    "    print(concordanceMarginal(\n",
    "        fiat[i], vwPolo[i], scales[i], indifference[i], preference[i]\n",
    "    ))\n",
    "for i in range(2):\n",
    "    print(concordanceMarginal(\n",
    "        vwPolo[i], fiat[i], scales[i], indifference[i], preference[i]\n",
    "    ))"
   ],
   "metadata": {
    "collapsed": false,
    "pycharm": {
     "name": "#%%\n"
    }
   }
  },
  {
   "cell_type": "code",
   "execution_count": 7,
   "outputs": [
    {
     "name": "stdout",
     "output_type": "stream",
     "text": [
      "1.0 0.7\n",
      "0.6 1.0\n",
      "----------\n",
      "1.0 0.7\n",
      "0.6 1.0\n"
     ]
    }
   ],
   "source": [
    "cr = concordance(\n",
    "    [vwPolo, fiat], scales, weights, indifference, preference\n",
    ")\n",
    "\n",
    "for line in cr:\n",
    "    print(*line)\n",
    "\n",
    "print('-' * 10)\n",
    "cr = concordance(\n",
    "    [vwPolo, fiat], scales, weights, indifference, preference\n",
    ")\n",
    "\n",
    "for line in cr:\n",
    "    print(*line)"
   ],
   "metadata": {
    "collapsed": false,
    "pycharm": {
     "name": "#%%\n"
    }
   }
  },
  {
   "cell_type": "code",
   "execution_count": 9,
   "outputs": [
    {
     "name": "stdout",
     "output_type": "stream",
     "text": [
      "0.7\n",
      "----------\n",
      "0.6\n"
     ]
    }
   ],
   "source": [
    "cr = concordance(\n",
    "    [vwPolo], scales, weights, indifference,\n",
    "    preference, profilesPerform=[fiat]\n",
    ")\n",
    "\n",
    "for line in cr:\n",
    "    print(*line)\n",
    "\n",
    "print('-' * 10)\n",
    "cr = concordance(\n",
    "    [fiat], scales, weights, indifference,\n",
    "    preference, profilesPerform=[vwPolo]\n",
    ")\n",
    "\n",
    "for line in cr:\n",
    "    print(*line)"
   ],
   "metadata": {
    "collapsed": false,
    "pycharm": {
     "name": "#%%\n"
    }
   }
  },
  {
   "cell_type": "code",
   "execution_count": null,
   "outputs": [],
   "source": [],
   "metadata": {
    "collapsed": false,
    "pycharm": {
     "name": "#%%\n"
    }
   }
  }
 ],
 "metadata": {
  "kernelspec": {
   "display_name": "Python 3",
   "language": "python",
   "name": "python3"
  },
  "language_info": {
   "codemirror_mode": {
    "name": "ipython",
    "version": 2
   },
   "file_extension": ".py",
   "mimetype": "text/x-python",
   "name": "python",
   "nbconvert_exporter": "python",
   "pygments_lexer": "ipython2",
   "version": "2.7.6"
  }
 },
 "nbformat": 4,
 "nbformat_minor": 0
}