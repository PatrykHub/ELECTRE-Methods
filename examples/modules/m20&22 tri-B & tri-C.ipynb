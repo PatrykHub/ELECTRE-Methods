{
 "cells": [
  {
   "cell_type": "code",
   "execution_count": 21,
   "metadata": {},
   "outputs": [],
   "source": [
    "import sys\n",
    "import os\n",
    "import pandas as pd\n",
    "sys.path.append(os.path.abspath('../../'))\n",
    "from mcda.electre.outranking.sorting import assign_tri_b_class, assign_tri_c_class"
   ]
  },
  {
   "cell_type": "code",
   "execution_count": 22,
   "metadata": {},
   "outputs": [],
   "source": [
    "# Electre Tri (B)\n",
    "categories_profiles = pd.Series([\"p1\", \"p2\", None], index=[\"Bad\", \"Medium\", \"Good\"])"
   ]
  },
  {
   "cell_type": "code",
   "execution_count": 23,
   "metadata": {},
   "outputs": [],
   "source": [
    "# Output of outranking_relation() would be (outranking_1, outranking_2) \n",
    "\n",
    "outranking_ap = pd.DataFrame(\n",
    "        [\n",
    "            [True, True],\n",
    "            [True, False],\n",
    "            [True, False],\n",
    "            [False, False],\n",
    "            [True, False],\n",
    "            [True, False]\n",
    "        ],\n",
    "        index=[\"Audi A3\", \"Audi A4\", \"BMW 118\", \"BMW 320\", \"Volvo C30\", \"Volvo S40\"],\n",
    "        columns=[\"p1\", \"p2\"])\n",
    "outranking_pa = pd.DataFrame(\n",
    "        [\n",
    "            [False, False, False, False, False, False],\n",
    "            [True, True, True, True, True, True]\n",
    "        ],\n",
    "        index=[\"p1\", \"p2\"],\n",
    "        columns=[\"Audi A3\", \"Audi A4\", \"BMW 118\", \"BMW 320\", \"Volvo C30\", \"Volvo S40\"])"
   ]
  },
  {
   "cell_type": "code",
   "execution_count": 24,
   "metadata": {},
   "outputs": [
    {
     "data": {
      "text/plain": [
       "Audi A3          (Good, Good)\n",
       "Audi A4      (Medium, Medium)\n",
       "BMW 118      (Medium, Medium)\n",
       "BMW 320         (Bad, Medium)\n",
       "Volvo C30    (Medium, Medium)\n",
       "Volvo S40    (Medium, Medium)\n",
       "dtype: object"
      ]
     },
     "execution_count": 24,
     "metadata": {},
     "output_type": "execute_result"
    }
   ],
   "source": [
    "tri_b = assign_tri_b_class(outranking_ap, outranking_pa, categories_profiles)\n",
    "tri_b"
   ]
  },
  {
   "cell_type": "code",
   "execution_count": 25,
   "metadata": {
    "collapsed": false
   },
   "outputs": [],
   "source": [
    "# Electre Tri-C\n",
    "categories_profiles_c = pd.Series([\"C1\", \"C2\", \"C3\", \"C4\", \"C5\"], index=[\"Bad\", \"Poor\", \"Okay\", \"Good\", \"Perfect\"])"
   ]
  },
  {
   "cell_type": "code",
   "execution_count": 26,
   "metadata": {
    "collapsed": false
   },
   "outputs": [],
   "source": [
    "outranking_ap = pd.DataFrame(\n",
    "            [\n",
    "                [True, True, True, False, False],\n",
    "                [True, True, True, False, False],\n",
    "                [True, True, True, False, False],\n",
    "                [True, True, True, False, False],\n",
    "                [True, True, False, False, False],\n",
    "                [True, True, False, False, False],\n",
    "                [True, True, False, False, False],\n",
    "                [True, True, True, True, False],\n",
    "                [True, True, False, False, False],\n",
    "                [True, True, False, False, False],\n",
    "                [True, True, False, False, False],\n",
    "            ],\n",
    "            index=[\n",
    "                \"France\",\n",
    "                \"Italy\",\n",
    "                \"Spain\",\n",
    "                \"Germany\",\n",
    "                \"Sweden\",\n",
    "                \"Denmark\",\n",
    "                \"Russia\",\n",
    "                \"Luxembourg\",\n",
    "                \"Portugal\",\n",
    "                \"Greece\",\n",
    "                \"Poland\",\n",
    "            ],\n",
    "            columns=[\"C1\", \"C2\", \"C3\", \"C4\", \"C5\"],\n",
    "        )\n",
    "outranking_pa = pd.DataFrame(\n",
    "            [\n",
    "                [False, False, False, False, False, False, False, False, False, False, False],\n",
    "                [False, False, False, False, False, False, False, False, False, False, False],\n",
    "                [False, False, False, True, False, False, False, True, False, False, False],\n",
    "                [True, True, True, True, True, True, True, True, False, False, False],\n",
    "                [True, True, True, True, True, True, True, True, True, True, True],\n",
    "            ],\n",
    "            index=[\"C1\", \"C2\", \"C3\", \"C4\", \"C5\"],\n",
    "            columns=[\n",
    "                \"France\",\n",
    "                \"Italy\",\n",
    "                \"Spain\",\n",
    "                \"Germany\",\n",
    "                \"Sweden\",\n",
    "                \"Denmark\",\n",
    "                \"Russia\",\n",
    "                \"Luxembourg\",\n",
    "                \"Portugal\",\n",
    "                \"Greece\",\n",
    "                \"Poland\",\n",
    "            ],\n",
    "        )"
   ]
  },
  {
   "cell_type": "code",
   "execution_count": 27,
   "metadata": {
    "collapsed": false
   },
   "outputs": [],
   "source": [
    "credibility_ap = pd.DataFrame(\n",
    "            [\n",
    "                [1.0, 1.0, 0.9, 0.5, 0.3],\n",
    "                [1.0, 1.0, 0.9, 0.6, 0.3],\n",
    "                [1.0, 1.0, 0.9, 0.6, 0.3],\n",
    "                [1.0, 0.9, 0.7, 0.3, 0.1],\n",
    "                [1.0, 0.9, 0.6, 0.3, 0.1],\n",
    "                [1.0, 0.9, 0.6, 0.5, 0.1],\n",
    "                [1.0, 0.9, 0.4, 0.3, 0.1],\n",
    "                [1.0, 1.0, 1.0, 0.8, 0.3],\n",
    "                [1.0, 0.9, 0.6, 0.5, 0.3],\n",
    "                [1.0, 0.9, 0.6, 0.6, 0.5],\n",
    "                [1.0, 0.9, 0.4, 0.3, 0.2],\n",
    "            ],\n",
    "            index=[\n",
    "                \"France\",\n",
    "                \"Italy\",\n",
    "                \"Spain\",\n",
    "                \"Germany\",\n",
    "                \"Sweden\",\n",
    "                \"Denmark\",\n",
    "                \"Russia\",\n",
    "                \"Luxembourg\",\n",
    "                \"Portugal\",\n",
    "                \"Greece\",\n",
    "                \"Poland\",\n",
    "            ],\n",
    "            columns=[\"C1\", \"C2\", \"C3\", \"C4\", \"C5\"],\n",
    "        )\n",
    "\n",
    "credibility_pa = pd.DataFrame(\n",
    "            [\n",
    "                [0.0, 0.0, 0.0, 0.2, 0.2, 0.2, 0.2, 0.2, 0.2, 0.2, 0.2],\n",
    "                [0.2, 0.2, 0.2, 0.3, 0.3, 0.5, 0.5, 0.2, 0.2, 0.2, 0.5],\n",
    "                [0.6, 0.5, 0.6, 0.7, 0.5, 0.4, 0.6, 0.9, 0.3, 0.3, 0.5],\n",
    "                [0.7, 0.7, 0.7, 0.8, 0.8, 0.8, 0.8, 1.0, 0.5, 0.4, 0.6],\n",
    "                [0.8, 0.8, 0.8, 1.0, 1.0, 1.0, 1.0, 1.0, 1.0, 1.0, 1.0],\n",
    "            ],\n",
    "            index=[\"C1\", \"C2\", \"C3\", \"C4\", \"C5\"],\n",
    "            columns=[\n",
    "                \"France\",\n",
    "                \"Italy\",\n",
    "                \"Spain\",\n",
    "                \"Germany\",\n",
    "                \"Sweden\",\n",
    "                \"Denmark\",\n",
    "                \"Russia\",\n",
    "                \"Luxembourg\",\n",
    "                \"Portugal\",\n",
    "                \"Greece\",\n",
    "                \"Poland\",\n",
    "            ],\n",
    "        )"
   ]
  },
  {
   "cell_type": "code",
   "execution_count": 28,
   "metadata": {
    "collapsed": false
   },
   "outputs": [
    {
     "data": {
      "text/plain": [
       "France           (Okay, Okay)\n",
       "Italy            (Good, Good)\n",
       "Spain            (Okay, Good)\n",
       "Germany          (Okay, Okay)\n",
       "Sweden           (Okay, Okay)\n",
       "Denmark          (Okay, Good)\n",
       "Russia           (Poor, Okay)\n",
       "Luxembourg       (Okay, Good)\n",
       "Portugal         (Okay, Good)\n",
       "Greece        (Okay, Perfect)\n",
       "Poland           (Poor, Good)\n",
       "dtype: object"
      ]
     },
     "execution_count": 28,
     "metadata": {},
     "output_type": "execute_result"
    }
   ],
   "source": [
    "assign_tri_c_class(outranking_ap, \n",
    "                   outranking_pa, \n",
    "                   credibility_ap, \n",
    "                   credibility_pa,\n",
    "                   categories_profiles_c)\n"
   ]
  }
 ],
 "metadata": {
  "interpreter": {
   "hash": "916dbcbb3f70747c44a77c7bcd40155683ae19c65e1c03b4aa3499c5328201f1"
  },
  "kernelspec": {
   "display_name": "Python 3.10.6 64-bit",
   "language": "python",
   "name": "python3"
  },
  "language_info": {
   "codemirror_mode": {
    "name": "ipython",
    "version": 3
   },
   "file_extension": ".py",
   "mimetype": "text/x-python",
   "name": "python",
   "nbconvert_exporter": "python",
   "pygments_lexer": "ipython3",
   "version": "3.10.6"
  },
  "pycharm": {
   "stem_cell": {
    "cell_type": "raw",
    "metadata": {
     "collapsed": false
    },
    "source": []
   }
  },
  "vscode": {
   "interpreter": {
    "hash": "25b38aa68ddf4005004f82e1968cd428932f4b45dc9b38b495b8793be4d820a6"
   }
  }
 },
 "nbformat": 4,
 "nbformat_minor": 2
}
