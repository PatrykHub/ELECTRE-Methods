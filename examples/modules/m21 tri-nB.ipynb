{
 "cells": [
  {
   "cell_type": "code",
   "execution_count": 1,
   "metadata": {},
   "outputs": [],
   "source": [
    "import sys\n",
    "import os\n",
    "import pandas as pd\n",
    "sys.path.append(os.path.abspath('../../'))\n",
    "from mcda.electre.outranking.sorting import assign_tri_nb_class"
   ]
  },
  {
   "cell_type": "markdown",
   "metadata": {},
   "source": [
    "### Example 1"
   ]
  },
  {
   "cell_type": "code",
   "execution_count": 2,
   "metadata": {},
   "outputs": [
    {
     "data": {
      "text/plain": [
       "bad       [p1_1, p1_2]\n",
       "medium    [p2_1, p2_2]\n",
       "good                []\n",
       "dtype: object"
      ]
     },
     "execution_count": 2,
     "metadata": {},
     "output_type": "execute_result"
    }
   ],
   "source": [
    "crisp_outranking_ap = pd.DataFrame(\n",
    "        [\n",
    "            [0, 1, 1, 1],\n",
    "            [0, 0, 0, 0],\n",
    "            [0, 0, 1, 1],\n",
    "            [0, 1, 0, 0],\n",
    "            [1, 1, 1, 0],\n",
    "        ],\n",
    "        index=['Audi', 'BMW' , 'Fiat' , 'Honda' , 'Opel'],\n",
    "        columns=[\"p2_1\", \"p2_2\", \"p1_1\", \"p1_2\"])\n",
    "crisp_outranking_pa = pd.DataFrame(\n",
    "        [\n",
    "            [0, 1, 1, 1, 0],\n",
    "            [0, 1, 0, 0, 0],\n",
    "            [0, 1, 0, 0, 0],\n",
    "            [1, 0, 1, 0, 1]\n",
    "        ],\n",
    "        index=[\"p2_1\", \"p2_2\", \"p1_1\", \"p1_2\"],\n",
    "        columns=['Audi', 'BMW' , 'Fiat' , 'Honda' , 'Opel'])\n",
    "categories = pd.Series([[\"p1_1\", \"p1_2\"], [\"p2_1\", \"p2_2\"], []], index=[\"bad\", \"medium\", \"good\"])\n",
    "categories\n"
   ]
  },
  {
   "cell_type": "code",
   "execution_count": 3,
   "metadata": {},
   "outputs": [
    {
     "data": {
      "text/plain": [
       "Audi         (good, good)\n",
       "BMW            (bad, bad)\n",
       "Fiat     (medium, medium)\n",
       "Honda         (bad, good)\n",
       "Opel         (good, good)\n",
       "dtype: object"
      ]
     },
     "execution_count": 3,
     "metadata": {},
     "output_type": "execute_result"
    }
   ],
   "source": [
    "assign_tri_nb_class(crisp_outranking_ap, crisp_outranking_pa, categories)"
   ]
  }
 ],
 "metadata": {
  "kernelspec": {
   "display_name": "Python 3",
   "language": "python",
   "name": "python3"
  },
  "language_info": {
   "codemirror_mode": {
    "name": "ipython",
    "version": 3
   },
   "file_extension": ".py",
   "mimetype": "text/x-python",
   "name": "python",
   "nbconvert_exporter": "python",
   "pygments_lexer": "ipython3",
   "version": "3.10.4"
  },
  "orig_nbformat": 4,
  "vscode": {
   "interpreter": {
    "hash": "1dd0381d1fc2fb15dda0c9601b2866ce5a466e54b3f253773e8ed097d13694fa"
   }
  }
 },
 "nbformat": 4,
 "nbformat_minor": 2
}
