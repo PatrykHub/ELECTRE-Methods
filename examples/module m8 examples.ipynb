{
 "cells": [
  {
   "cell_type": "code",
   "execution_count": 10,
   "metadata": {},
   "outputs": [],
   "source": [
    "import sys\n",
    "import os\n",
    "sys.path.append(os.path.abspath('../'))\n",
    "from mcda.electre.concordance import *\n",
    "from mcda.electre.discordance import *\n",
    "from mcda.electre.credibility import *\n",
    "from mcda.core.scales import QuantitativeScale, PreferenceDirection\n",
    "from mcda.core.functions import Threshold"
   ]
  },
  {
   "cell_type": "code",
   "execution_count": 11,
   "metadata": {},
   "outputs": [],
   "source": [
    "fiat   = [100, 1000]\n",
    "vwPolo = [150, 5000]\n",
    "scales  = [QuantitativeScale(100,   500),\n",
    "           QuantitativeScale(1000, 6000, PreferenceDirection.MIN)]\n",
    "weights = [2, 3]"
   ]
  },
  {
   "cell_type": "code",
   "execution_count": 12,
   "metadata": {},
   "outputs": [],
   "source": [
    "indifference = [\n",
    "    [0.1, 10],\n",
    "    [0, 500]\n",
    "]\n",
    "preference = [\n",
    "    [0.3, 20],\n",
    "    [0.4, 500]\n",
    "]"
   ]
  },
  {
   "cell_type": "code",
   "execution_count": 13,
   "metadata": {},
   "outputs": [
    {
     "name": "stdout",
     "output_type": "stream",
     "text": [
      "[[1.0, 0.6], [0.4, 1.0]]\n"
     ]
    }
   ],
   "source": [
    "concordance_comprehensive = concordance(\n",
    "    [fiat, vwPolo], scales, weights, indifference, preference\n",
    ")\n",
    "print(concordance_comprehensive)"
   ]
  },
  {
   "cell_type": "code",
   "execution_count": 14,
   "metadata": {},
   "outputs": [],
   "source": [
    "indifference = [\n",
    "    Threshold(0.1, 10),\n",
    "    Threshold(0, 500)\n",
    "]\n",
    "preference = [\n",
    "    Threshold(0.3, 20), \n",
    "    Threshold(0.4, 500)\n",
    "]\n",
    "veto = [\n",
    "    Threshold(0, 100), \n",
    "    Threshold(0, 3500)\n",
    "]"
   ]
  },
  {
   "cell_type": "code",
   "execution_count": 15,
   "metadata": {},
   "outputs": [
    {
     "name": "stdout",
     "output_type": "stream",
     "text": [
      "[[0, 1], [0, 0]]\n"
     ]
    }
   ],
   "source": [
    "discordance_comprehensive = discordance(\n",
    "    vwPolo, [fiat, vwPolo], scales, preference, veto, None\n",
    ")\n",
    "print(discordance_comprehensive)"
   ]
  },
  {
   "cell_type": "code",
   "execution_count": 16,
   "metadata": {},
   "outputs": [],
   "source": [
    "counter_veto_thresholds = [Threshold(0, 100), Threshold(0, 1000)]"
   ]
  },
  {
   "cell_type": "code",
   "execution_count": 17,
   "metadata": {},
   "outputs": [
    {
     "name": "stdout",
     "output_type": "stream",
     "text": [
      "[[0, 0], [1, 0]]\n"
     ]
    }
   ],
   "source": [
    "current_veto_occurs = counter_veto_count(\n",
    "    [fiat, vwPolo], scales, counter_veto_thresholds\n",
    ")\n",
    "print(current_veto_occurs)"
   ]
  },
  {
   "cell_type": "code",
   "execution_count": 18,
   "metadata": {},
   "outputs": [
    {
     "name": "stdout",
     "output_type": "stream",
     "text": [
      "[[0.0, 0.6], [0.4, 0.0]]\n"
     ]
    }
   ],
   "source": [
    "print(credibility_cv(\n",
    "    concordance_comprehensive, discordance_comprehensive, current_veto_occurs\n",
    "))"
   ]
  }
 ],
 "metadata": {
  "kernelspec": {
   "display_name": "Python 3.10.4 ('.venv': venv)",
   "language": "python",
   "name": "python3"
  },
  "language_info": {
   "codemirror_mode": {
    "name": "ipython",
    "version": 3
   },
   "file_extension": ".py",
   "mimetype": "text/x-python",
   "name": "python",
   "nbconvert_exporter": "python",
   "pygments_lexer": "ipython3",
   "version": "3.10.4"
  },
  "orig_nbformat": 4,
  "vscode": {
   "interpreter": {
    "hash": "990a679a28511c2dd3bbdaa326aa82577d88b3ae5d494cce7c77815e31c08261"
   }
  }
 },
 "nbformat": 4,
 "nbformat_minor": 2
}
